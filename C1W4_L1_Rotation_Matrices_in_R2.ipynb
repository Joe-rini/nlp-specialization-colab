{
  "cells": [
    {
      "cell_type": "markdown",
      "metadata": {
        "id": "view-in-github",
        "colab_type": "text"
      },
      "source": [
        "<a href=\"https://colab.research.google.com/github/Joe-rini/nlp-specialization-colab/blob/main/C1W4_L1_Rotation_Matrices_in_R2.ipynb\" target=\"_parent\"><img src=\"https://colab.research.google.com/assets/colab-badge.svg\" alt=\"Open In Colab\"/></a>"
      ]
    },
    {
      "cell_type": "markdown",
      "id": "65c861bb",
      "metadata": {
        "id": "65c861bb"
      },
      "source": [
        "# NLP Specialization — Course 1, Week 4, Lesson 1\n",
        "## Rotation Matrices in R²\n",
        "\n",
        "In this lesson, we build geometric intuition for 2D rotation matrices.\n",
        "This forms the basis for understanding transformations like SVD in NLP."
      ]
    },
    {
      "cell_type": "code",
      "execution_count": null,
      "id": "86355cd2",
      "metadata": {
        "id": "86355cd2"
      },
      "outputs": [],
      "source": [
        "!pip install -q numpy matplotlib gradio"
      ]
    },
    {
      "cell_type": "code",
      "execution_count": null,
      "id": "87f82ea5",
      "metadata": {
        "id": "87f82ea5"
      },
      "outputs": [],
      "source": [
        "import numpy as np\n",
        "import matplotlib.pyplot as plt\n",
        "import gradio as gr"
      ]
    },
    {
      "cell_type": "markdown",
      "id": "433b57bc",
      "metadata": {
        "id": "433b57bc"
      },
      "source": [
        "## 1. Rotation Matrices\n",
        "\n",
        "A 2D rotation by an angle θ (counterclockwise) can be expressed as:\n",
        "\n",
        "$$\n",
        "R(\\theta) = \\begin{bmatrix}\n",
        "\\cos\\theta & -\\sin\\theta \\\\\n",
        "\\sin\\theta & \\cos\\theta\n",
        "\\end{bmatrix}\n",
        "$$\n",
        "\n",
        "This matrix **rotates a vector without changing its length**."
      ]
    },
    {
      "cell_type": "code",
      "execution_count": null,
      "id": "36b4b747",
      "metadata": {
        "id": "36b4b747"
      },
      "outputs": [],
      "source": [
        "def rotation_matrix(theta_degrees):\n",
        "    theta = np.radians(theta_degrees)\n",
        "    return np.array([[np.cos(theta), -np.sin(theta)],\n",
        "                     [np.sin(theta),  np.cos(theta)]])"
      ]
    },
    {
      "cell_type": "markdown",
      "id": "a16c193b",
      "metadata": {
        "id": "a16c193b"
      },
      "source": [
        "## 2. Toy Example\n",
        "Rotate the vector (1, 0) by 90 degrees."
      ]
    },
    {
      "cell_type": "code",
      "execution_count": null,
      "id": "e23614e9",
      "metadata": {
        "id": "e23614e9"
      },
      "outputs": [],
      "source": [
        "v = np.array([1, 0])\n",
        "R = rotation_matrix(90)\n",
        "rotated = R @ v\n",
        "print('Original:', v)\n",
        "print('Rotated:', rotated)"
      ]
    },
    {
      "cell_type": "markdown",
      "id": "9dd0165b",
      "metadata": {
        "id": "9dd0165b"
      },
      "source": [
        "## 3. Visualizing the Rotation\n",
        "This shows how the vector moves after rotation."
      ]
    },
    {
      "cell_type": "code",
      "execution_count": null,
      "id": "2d050b23",
      "metadata": {
        "id": "2d050b23"
      },
      "outputs": [],
      "source": [
        "def plot_rotation(v, angle):\n",
        "    R = rotation_matrix(angle)\n",
        "    vr = R @ v\n",
        "    plt.figure(figsize=(6,6))\n",
        "    plt.quiver(0,0,v[0],v[1],angles='xy',scale_units='xy',scale=1,color='blue',label='Original')\n",
        "    plt.quiver(0,0,vr[0],vr[1],angles='xy',scale_units='xy',scale=1,color='red',label=f'Rotated {angle}°')\n",
        "    plt.axhline(0,color='gray',lw=0.5)\n",
        "    plt.axvline(0,color='gray',lw=0.5)\n",
        "    plt.xlim(-1.5,1.5)\n",
        "    plt.ylim(-1.5,1.5)\n",
        "    plt.legend()\n",
        "    plt.title('2D Rotation')\n",
        "    plt.gca().set_aspect('equal')\n",
        "    plt.show()\n",
        "\n",
        "plot_rotation(v, 90)"
      ]
    },
    {
      "cell_type": "markdown",
      "id": "e76d96dd",
      "metadata": {
        "id": "e76d96dd"
      },
      "source": [
        "## 4. Try It Yourself\n",
        "Interactively rotate any 2D vector by any angle."
      ]
    },
    {
      "cell_type": "code",
      "execution_count": null,
      "id": "450050ae",
      "metadata": {
        "id": "450050ae"
      },
      "outputs": [],
      "source": [
        "def rotate_and_plot(vx, vy, angle):\n",
        "    v = np.array([vx, vy])\n",
        "    R = rotation_matrix(angle)\n",
        "    vr = R @ v\n",
        "    fig, ax = plt.subplots(figsize=(6,6))\n",
        "    ax.quiver(0,0,v[0],v[1],angles='xy',scale_units='xy',scale=1,color='blue',label='Original')\n",
        "    ax.quiver(0,0,vr[0],vr[1],angles='xy',scale_units='xy',scale=1,color='red',label=f'Rotated {angle}°')\n",
        "    ax.axhline(0,color='gray',lw=0.5)\n",
        "    ax.axvline(0,color='gray',lw=0.5)\n",
        "    ax.set_xlim(-2,2)\n",
        "    ax.set_ylim(-2,2)\n",
        "    ax.legend()\n",
        "    ax.set_aspect('equal')\n",
        "    return fig\n",
        "\n",
        "gr.Interface(\n",
        "    fn=rotate_and_plot,\n",
        "    inputs=[gr.Slider(-2,2,value=1,label='Vector X'),\n",
        "            gr.Slider(-2,2,value=0,label='Vector Y'),\n",
        "            gr.Slider(-180,180,value=90,step=1,label='Angle')],\n",
        "    outputs=gr.Plot(),\n",
        "    title='Rotate a Vector'\n",
        ") # Uncomment .launch() in Colab\n",
        "# .launch()"
      ]
    },
    {
      "cell_type": "markdown",
      "id": "ac3b8e1d",
      "metadata": {
        "id": "ac3b8e1d"
      },
      "source": [
        "## 5. Why This Matters for NLP\n",
        "\n",
        "In NLP, word embeddings are vectors in high-dimensional space.\n",
        "Transformations like **SVD** rotate and project these vectors to reveal hidden structure.\n",
        "\n",
        "Just like a 2D rotation preserves distances, these transformations preserve relationships in higher dimensions."
      ]
    }
  ],
  "metadata": {
    "colab": {
      "provenance": [],
      "include_colab_link": true
    }
  },
  "nbformat": 4,
  "nbformat_minor": 5
}