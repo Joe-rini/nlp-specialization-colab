{
  "cells": [
    {
      "cell_type": "markdown",
      "id": "dc633f31",
      "metadata": {
        "id": "dc633f31"
      },
      "source": [
        "# Lesson L3 – Logistic Regression for Tweet Sentiment 📈❤️💔\n",
        "\n",
        "Welcome to **Lesson L3** of our Colab‑ready DeepLearning.AI NLP beginner friendly remake!\n",
        "\n",
        "## What you’ll learn\n",
        "* Convert cleaned tweets into **numeric features**  \n",
        "* Train a **Logistic Regression** classifier for sentiment  \n",
        "* **Visualise** tweets in feature‑space and the model’s decision boundary  \n",
        "* Evaluate accuracy & interpret the learned weights  \n",
        "* Experiment live with an **interactive Gradio playground**\n",
        "\n",
        "## Why this matters\n",
        "Getting from *word counts* → *predictions* is the heart of many NLP systems.  \n",
        "Logistic Regression is a surprisingly strong baseline and lays the groundwork for neural networks.\n",
        "\n",
        "## Roadmap\n",
        "1. **Setup & installs** – one cell, ready for Colab  \n",
        "2. **Toy example** – six handmade tweets to see LR end‑to‑end  \n",
        "3. **Real dataset** – 10 k NLTK tweets, build features on the fly  \n",
        "4. **Visualisation** – scatter & decision boundary  \n",
        "5. **Evaluation** – accuracy + confusion matrix  \n",
        "6. **Gradio playground** – paste any text and get a sentiment score  \n",
        "\n",
        "_👉 Let’s dive in!_\n"
      ]
    },
    {
      "cell_type": "code",
      "execution_count": null,
      "id": "1fef2063",
      "metadata": {
        "colab": {
          "base_uri": "https://localhost:8080/"
        },
        "id": "1fef2063",
        "outputId": "bfb2b9a4-dcf3-4f1b-dbc6-9c7714f7807b"
      },
      "outputs": [
        {
          "output_type": "stream",
          "name": "stdout",
          "text": [
            "✅ Environment & NLTK corpora ready!\n"
          ]
        }
      ],
      "source": [
        "# 🍀 Colab setup – run this first!\n",
        "# Installs pinned to avoid version conflicts with Colab pre‑installs\n",
        "import pandas as pd\n",
        "!pip -q install --upgrade \\\n",
        "        \"nltk\" \\\n",
        "        \"wordcloud\" \\\n",
        "        \"numpy>=1.26,<2.1\" \\\n",
        "        \"scikit-learn<1.7\" \\\n",
        "        \"gradio>=4.27.0\" \\\n",
        "        \"websockets>=13,<15\" --progress-bar off\n",
        "\n",
        "import nltk, ssl\n",
        "try:\n",
        "    _create_unverified_https_context = ssl._create_unverified_context\n",
        "    ssl._create_default_https_context = _create_unverified_https_context\n",
        "except AttributeError:\n",
        "    pass\n",
        "\n",
        "for resource in ['stopwords', 'punkt', 'twitter_samples']:\n",
        "    nltk.download(resource, quiet=True)\n",
        "\n",
        "print(\"✅ Environment & NLTK corpora ready!\")\n"
      ]
    },
    {
      "cell_type": "markdown",
      "source": [
        "## Let's build a classifier. First Toy, then real!\n",
        "\n",
        "In this workbook, our goal is to build a system that can predict whether a Tweet is positive of negative. To keep things simple and interpretable, we won’t model word order or complex phrasing. Instead, we'll rely on how many positive and negative words appear in each Tweet.\n",
        "\n",
        "In the end, each tweet will be reduced to a simple feature vector: just a count of how many positive and how many negative words it contains.\n",
        "\n",
        "Ps. We will assign which words are positive or negative in the first place by using the 10k Tweet set that we've imported (which is already split into 5k positive and 5k negative)."
      ],
      "metadata": {
        "id": "QYH32TVg84oY"
      },
      "id": "QYH32TVg84oY"
    },
    {
      "cell_type": "markdown",
      "id": "08216daf",
      "metadata": {
        "id": "08216daf"
      },
      "source": [
        "## 1️⃣ Toy example – six mini‑tweets\n",
        "We will take the 6 Tweets, clean them, and the build a mini logistic regression that decides if the Tweet is positive or negative.\n",
        "\n",
        "Things to note: in the toy example we just define 3 positive words (pos_lex) and 3 negative words (neg_lex) to kick things off. In the full example we'll need to figure out which words are positive or negative in the first place.\n",
        "\n",
        "We ALSO know which Tweets are positive and negative. So all we are doing is looking for some relationships between word sentiment counts and Tweet sentiment."
      ]
    },
    {
      "cell_type": "code",
      "execution_count": null,
      "id": "82ccb976",
      "metadata": {
        "id": "82ccb976"
      },
      "outputs": [],
      "source": [
        "#Clean and plot the 6 sentences\n",
        "from nltk.stem import PorterStemmer\n",
        "from nltk.corpus import stopwords\n",
        "import re, numpy as np, matplotlib.pyplot as plt\n",
        "from sklearn.linear_model import LogisticRegression\n",
        "\n",
        "stemmer = PorterStemmer()\n",
        "stop_words = set(stopwords.words('english'))\n",
        "\n",
        "def simple_process(sentence):\n",
        "    sentence = sentence.lower()\n",
        "    sentence = re.sub(r'[^a-z\\s]', '', sentence)\n",
        "    return [stemmer.stem(w) for w in sentence.split() if w not in stop_words]\n",
        "\n",
        "# Mini sentiment lexicon\n",
        "pos_lex = {'love','great','happy'}\n",
        "neg_lex = {'hate','bad','sad'}\n",
        "\n",
        "def to_features(tokens):\n",
        "    pos_cnt = sum(w in pos_lex for w in tokens)\n",
        "    neg_cnt = sum(w in neg_lex for w in tokens)\n",
        "    return [pos_cnt, neg_cnt]\n",
        "\n",
        "#The 6 sentences are pre-defined as postive or negative (see np.array in next code snippet which has 1,1,1,0,0,0)\n",
        "toy_tweets = [\n",
        "    \"I love this!\",\n",
        "    \"This is great and makes me happy\",\n",
        "    \"So happy, great vibes\",\n",
        "    \"I hate this, really bad\",\n",
        "    \"This is sad and bad\",\n",
        "    \"I hate it so much\"\n",
        "]\n"
      ]
    },
    {
      "cell_type": "markdown",
      "source": [
        "For each sentence, we list how many positive and negative words are found."
      ],
      "metadata": {
        "id": "xvGx8ooS90bb"
      },
      "id": "xvGx8ooS90bb"
    },
    {
      "cell_type": "code",
      "source": [
        "# Create DataFrame\n",
        "data = {\n",
        "    \"Original Tweet\": [],\n",
        "    \"Cleaned Tokens\": [],\n",
        "    \"Features [pos_cnt, neg_cnt]\": []\n",
        "}\n",
        "\n",
        "for tweet in toy_tweets:\n",
        "    tokens = simple_process(tweet)\n",
        "    features = to_features(tokens)\n",
        "    data[\"Original Tweet\"].append(tweet)\n",
        "    data[\"Cleaned Tokens\"].append(tokens)\n",
        "    data[\"Features [pos_cnt, neg_cnt]\"].append(features)\n",
        "\n",
        "df = pd.DataFrame(data)\n",
        "\n",
        "print(df.to_markdown(index=False))\n"
      ],
      "metadata": {
        "id": "RJkAjDBW9bUt",
        "outputId": "d7df4c1b-50ad-4445-df6f-d688c0eddcf5",
        "colab": {
          "base_uri": "https://localhost:8080/"
        }
      },
      "id": "RJkAjDBW9bUt",
      "execution_count": null,
      "outputs": [
        {
          "output_type": "stream",
          "name": "stdout",
          "text": [
            "| Original Tweet                   | Cleaned Tokens             | Features [pos_cnt, neg_cnt]   |\n",
            "|:---------------------------------|:---------------------------|:------------------------------|\n",
            "| I love this!                     | ['love']                   | [1, 0]                        |\n",
            "| This is great and makes me happy | ['great', 'make', 'happi'] | [1, 0]                        |\n",
            "| So happy, great vibes            | ['happi', 'great', 'vibe'] | [1, 0]                        |\n",
            "| I hate this, really bad          | ['hate', 'realli', 'bad']  | [0, 2]                        |\n",
            "| This is sad and bad              | ['sad', 'bad']             | [0, 2]                        |\n",
            "| I hate it so much                | ['hate', 'much']           | [0, 1]                        |\n"
          ]
        }
      ]
    },
    {
      "cell_type": "markdown",
      "source": [
        "So now we take that intermediate table we have built, and will train a logistic regression that is able to link the features (number of postive words, number of negative words) to whether the sentence is positive or negative.\n",
        "\n",
        "How is this done? We call a scikit-learn package that uses an optimization algorithm to find the best parameters (weights and bias) that minimize a loss function — typically the log loss (a.k.a. binary cross-entropy) for the Logistic Regression Sigmoid function. We will cover it intuitively below, but feel free to go do a deep dive on the Sigmoid function (maybe compare it to the quadratic to build some intuition).\n",
        "\n",
        "Just as an FYI: that optimization process where the best intercept and slope of the curve is found isdone via gradient descent, but we won't focus on the nuts and bolts of gradient descent here. Again, feel free to go do a deep dive, and note we will cover it later."
      ],
      "metadata": {
        "id": "Bk52jPg83fs9"
      },
      "id": "Bk52jPg83fs9"
    },
    {
      "cell_type": "markdown",
      "source": [
        "Somewhat advanced step: Lets build the Matrix Algebra data structures."
      ],
      "metadata": {
        "id": "gCjIyANQZ3B4"
      },
      "id": "gCjIyANQZ3B4"
    },
    {
      "cell_type": "code",
      "source": [
        "# Define sentiment labels: 1 = positive, 0 = negative\n",
        "y_toy = np.array([1, 1, 1, 0, 0, 0])\n",
        "\n",
        "# Convert each tweet into a feature vector: [#positive_words, #negative_words]\n",
        "X_toy = np.array([to_features(simple_process(t)) for t in toy_tweets])\n",
        "\n",
        "# Display the resulting feature matrix\n",
        "print(y_toy)\n",
        "print(\"Toy feature matrix:\\n\", X_toy)\n"
      ],
      "metadata": {
        "colab": {
          "base_uri": "https://localhost:8080/"
        },
        "id": "SdppJCjc2TiD",
        "outputId": "625cb59d-05a5-4f35-d084-1ff3ef030873"
      },
      "id": "SdppJCjc2TiD",
      "execution_count": null,
      "outputs": [
        {
          "output_type": "stream",
          "name": "stdout",
          "text": [
            "[1 1 1 0 0 0]\n",
            "Toy feature matrix:\n",
            " [[1 0]\n",
            " [1 0]\n",
            " [1 0]\n",
            " [0 2]\n",
            " [0 2]\n",
            " [0 1]]\n"
          ]
        }
      ]
    },
    {
      "cell_type": "markdown",
      "source": [
        "Above we list the Tweets by sentiment [1 1 1 0 0 0], and stack the positive and negative words per Tweets like this [1 0], where each \"row\" corresponds to the Tweets in order. Look at the above table to see how the 2 matrices match up to the Tweet sentiment and word sentiment."
      ],
      "metadata": {
        "id": "UaSui4wJbSbp"
      },
      "id": "UaSui4wJbSbp"
    },
    {
      "cell_type": "markdown",
      "source": [
        "## Now let's train the toy example using the Logistic Regression package\n",
        "We are not actually hand implementing Gradient Descent here, but rather using a Python package.\n",
        "\n",
        "For the quick and dirty intuition, it's like all we are doing is plotting the 6 Tweets on a graph with negative words on the Y Axis and positive words on the X axis and trying to find a line that best splits them into positive and negative.\n",
        "\n",
        "You could manually eyeball this in the Toy Example by just placing the line. but in production grade large datasets you'll need an algorithmic way to accomplish this: Gradient Descent software packages."
      ],
      "metadata": {
        "id": "YMmUzMG0bj8j"
      },
      "id": "YMmUzMG0bj8j"
    },
    {
      "cell_type": "code",
      "source": [
        "# Initialize and train a logistic regression classifier on the toy data\n",
        "clf_toy = LogisticRegression()\n",
        "clf_toy.fit(X_toy, y_toy)\n",
        "\n",
        "# Print training accuracy (since this is a toy set, it should be 100%)\n",
        "print(\"Toy accuracy:\", clf_toy.score(X_toy, y_toy))\n"
      ],
      "metadata": {
        "id": "cvQOnAL6aLNZ",
        "outputId": "2980a20b-e9bc-48b6-ed03-3428ff160527",
        "colab": {
          "base_uri": "https://localhost:8080/"
        }
      },
      "id": "cvQOnAL6aLNZ",
      "execution_count": null,
      "outputs": [
        {
          "output_type": "stream",
          "name": "stdout",
          "text": [
            "Toy accuracy: 1.0\n"
          ]
        }
      ]
    },
    {
      "cell_type": "markdown",
      "source": [
        "The accuracy for our Toy Example is 100%. We were able to find a line that splits ALL Tweets correctly, with no outliers on the wrong side of the curve. Note this doesn't mean the \"loss\" is 0, it's just minimized. More on this below.\n",
        "\n",
        "Let's visualize this. We plot the number of negative words in the Tweet on the Y axis and the number of positive words on the X axis.\n",
        "\n",
        "BEFORE YOU PROCEED, go back to the summary table above. Visualize where the various Tweets will be plotted on this simple XY graph before you proceed. If you can visualize it (or write it down - it's just 6 points), draw a line that you think best splits the Tweets down the middle. You just hacked together an ML optimization :)"
      ],
      "metadata": {
        "id": "pYw8SmrncSEy"
      },
      "id": "pYw8SmrncSEy"
    },
    {
      "cell_type": "code",
      "source": [
        "# ---------- Visualization ----------\n",
        "# Create a new 4x4 inch plot\n",
        "plt.figure(figsize=(4,4))\n",
        "\n",
        "# Plot the data points with different markers for positive and negative labels\n",
        "for label, marker, color in [(1, 'o', 'green'), (0, 'x', 'red')]:\n",
        "    mask = y_toy == label\n",
        "    plt.scatter(\n",
        "        X_toy[mask, 0], X_toy[mask, 1],\n",
        "        marker=marker, color=color,\n",
        "        label='Positive' if label else 'Negative', s=80\n",
        "    )\n",
        "\n",
        "# Extract the learned weights and intercept from the trained model\n",
        "coef = clf_toy.coef_[0]       # [w1, w2]\n",
        "intercept = clf_toy.intercept_[0]  # bias term\n",
        "\n",
        "# Generate x-values to plot the decision boundary line\n",
        "xs = np.linspace(0, 3, 100)\n",
        "\n",
        "# Compute corresponding y-values for the decision boundary: w1*x + w2*y + b = 0\n",
        "ys = -(coef[0]*xs + intercept) / coef[1]\n",
        "\n",
        "# Plot the decision boundary as a dashed black line\n",
        "plt.plot(xs, ys, '--k')\n",
        "\n",
        "# Label the axes\n",
        "plt.xlabel('Positive word count')\n",
        "plt.ylabel('Negative word count')\n",
        "\n",
        "# Set visible limits for clarity\n",
        "plt.xlim(-0.2, 3.5)\n",
        "plt.ylim(-0.2, 3.5)\n",
        "\n",
        "# Add a legend and title\n",
        "plt.legend()\n",
        "plt.title(\"Toy decision boundary\")\n",
        "\n",
        "# Show the final plot\n",
        "plt.show()\n"
      ],
      "metadata": {
        "id": "mF6lVvTOcM5O",
        "outputId": "5458dd1d-6c9a-4ead-fbdf-edbfa1d05ea7",
        "colab": {
          "base_uri": "https://localhost:8080/",
          "height": 410
        }
      },
      "id": "mF6lVvTOcM5O",
      "execution_count": null,
      "outputs": [
        {
          "output_type": "display_data",
          "data": {
            "text/plain": [
              "<Figure size 400x400 with 1 Axes>"
            ],
            "image/png": "[encoded data removed]"
          },
          "metadata": {}
        }
      ]
    },
    {
      "cell_type": "markdown",
      "id": "73a39263",
      "metadata": {
        "id": "73a39263"
      },
      "source": [
        "Did you correctly visualize the plotted Tweets and the curve. 3 Greens on top of each other with [1,0], and the Red split up: 1 at [0,1] and 2 at [0,2]. Think about different lines that might also split these Tweets with 100% accuracy. Why does the line sit where it does? If you want to dive deeper, go ask ChatGPT what an ideal loss maximization curve is for a logistic regression function and have fun deep diving.\n",
        "\n",
        "And there you have it, using the built-in Gradient Descent function in the Python package, we have arrived at a line that splits positive vs negative tweets based on the number of positive vs negative words.\n",
        "\n",
        "We could now take any Tweet and feed it to the system, getting back it's best prediction about whether the Tweet is positive or negative (or course it would have to contain some of our 6 words for this to work). At this end of this workbook you'll build a little Gradio app with a UI to allow you to do this using the model we'll train below."
      ]
    },
    {
      "cell_type": "markdown",
      "source": [
        "## Sidebar: How does the Logistic Regression Function really work?\n",
        "Now let's actually look at how the \"decision function\" really works and is shaped. For ease we'll simply feed in the difference between negative and positive words per Tweet to see how this gets \"processed\" by the underlying function.\n",
        "\n",
        "Run the below code, then take time to understand what the curve is doing. In some non-linear way, as the number of positive words relative to negative words increases (moving rightword on the X axis) the probability that the Tweet is positive goes up.\n",
        "\n",
        "Super straightforward. We came to the exercise already using the Logistic Regression function, so the only thing we've really trained is the slope and intercept of that curve — that is, how steeply it rises, and where it flips from predicting mostly \"negative\" to mostly \"positive.\""
      ],
      "metadata": {
        "id": "Z9PtkFj9kdR1"
      },
      "id": "Z9PtkFj9kdR1"
    },
    {
      "cell_type": "code",
      "source": [
        "import numpy as np\n",
        "import matplotlib.pyplot as plt\n",
        "from sklearn.linear_model import LogisticRegression\n",
        "\n",
        "# Compute net sentiment feature: pos - neg\n",
        "net_sentiment = X_toy[:, 0] - X_toy[:, 1]\n",
        "X_1d = net_sentiment.reshape(-1, 1)\n",
        "\n",
        "# Fit logistic regression\n",
        "clf_1d = LogisticRegression()\n",
        "clf_1d.fit(X_1d, y_toy)\n",
        "\n",
        "# Get weight and bias\n",
        "w = clf_1d.coef_[0][0]\n",
        "b = clf_1d.intercept_[0]\n",
        "\n",
        "# Smooth sigmoid curve\n",
        "x_vals = np.linspace(net_sentiment.min() - 1, net_sentiment.max() + 1, 300)\n",
        "z = w * x_vals + b\n",
        "probs = 1 / (1 + np.exp(-z))\n",
        "\n",
        "# Predict for actual points\n",
        "z_points = w * net_sentiment + b\n",
        "probs_points = 1 / (1 + np.exp(-z_points))\n",
        "\n",
        "# Compute per-point log loss\n",
        "log_losses = - (y_toy * np.log(probs_points) + (1 - y_toy) * np.log(1 - probs_points))\n",
        "\n",
        "# Plot\n",
        "plt.figure(figsize=(10, 6))\n",
        "plt.plot(x_vals, probs, label='Logistic Regression Curve', color='blue')\n",
        "plt.axvline(x=0, linestyle='--', color='gray', alpha=0.4)\n",
        "\n",
        "# Show vertical lines + error and loss labels\n",
        "for xi, yi, pi, loss in zip(net_sentiment, y_toy, probs_points, log_losses):\n",
        "    error = abs(yi - pi)\n",
        "    label = f\"{error:.2f} ({loss:.3f})\"\n",
        "    plt.plot([xi, xi], [yi, pi], color='gray', linestyle=':', linewidth=1)\n",
        "    plt.text(xi + 0.1, (yi + pi) / 2, label, fontsize=9, color='black', ha='left', va='center')\n",
        "\n",
        "# Plot actual data points\n",
        "plt.scatter(net_sentiment[y_toy == 0], y_toy[y_toy == 0], c='red', label='Negative tweet', zorder=3)\n",
        "plt.scatter(net_sentiment[y_toy == 1], y_toy[y_toy == 1], c='green', label='Positive tweet', zorder=3)\n",
        "\n",
        "# Labels and layout\n",
        "plt.xlabel(\"Net Sentiment (pos - neg)\")\n",
        "plt.ylabel(\"P(tweet is positive)\")\n",
        "plt.title(\"Logistic Regression Curve with Error and Log Loss per Tweet\")\n",
        "plt.legend()\n",
        "plt.grid(True)\n",
        "plt.ylim(-0.1, 1.1)\n",
        "plt.tight_layout()\n",
        "plt.show()\n"
      ],
      "metadata": {
        "id": "Fk3sSSmfjucK",
        "outputId": "715d65b9-e61f-468b-abf6-c75796654c46",
        "colab": {
          "base_uri": "https://localhost:8080/",
          "height": 607
        }
      },
      "id": "Fk3sSSmfjucK",
      "execution_count": null,
      "outputs": [
        {
          "output_type": "display_data",
          "data": {
            "text/plain": [
              "<Figure size 1000x600 with 1 Axes>"
            ],
            "image/png": "[encoded data removed]"
          },
          "metadata": {}
        }
      ]
    },
    {
      "cell_type": "markdown",
      "source": [
        "And now, before moving on to the real Twitter example, here is a key and replicable lesson across ML. No matter the function (1D sigmoid curve above, 2D decision plane we plotted above that, or a deep neural net), machine learning boils down to one core principle:\n",
        "minimize a loss function that measures how far your model is from getting each training example right.\n",
        "\n",
        "In the above example I include the distance and loss (log loss function for Sigmoid) for each data point just to show the non-linearity of the loss. You could go calculate this for the linear decision graph above and find the same value."
      ],
      "metadata": {
        "id": "tgcmEVsel8vT"
      },
      "id": "tgcmEVsel8vT"
    },
    {
      "cell_type": "markdown",
      "id": "a612cf46",
      "metadata": {
        "id": "a612cf46"
      },
      "source": [
        "##  2️⃣ Now let's replicate the toy exercise on real Twitter Data\n",
        "\n",
        "Now we'll surface the sentiment feature words directly from the data, then use them to train the model.\n",
        "\n",
        "First let's rebuild the helper functions – inline (no utils.py like in the DeepLearning course. We'll build the code in the Colab environment). We did this already in previous weeks but try to follow the code under each function."
      ]
    },
    {
      "cell_type": "code",
      "execution_count": null,
      "id": "87dd05bd",
      "metadata": {
        "id": "87dd05bd"
      },
      "outputs": [],
      "source": [
        "import re, numpy as np\n",
        "from nltk.corpus import stopwords\n",
        "from nltk.stem import PorterStemmer\n",
        "\n",
        "stemmer = PorterStemmer()\n",
        "stop_words = set(stopwords.words('english'))\n",
        "\n",
        "def process_tweet(tweet: str):\n",
        "    tweet = tweet.lower()\n",
        "    tweet = re.sub(r'https?://\\S+', '', tweet)\n",
        "    tweet = re.sub(r'[^a-z\\s]', '', tweet)\n",
        "    return [stemmer.stem(w) for w in tweet.split() if w not in stop_words]\n",
        "\n",
        "def build_freqs(tweets, ys):\n",
        "    freqs = {}\n",
        "    for y, tweet in zip(ys, tweets):\n",
        "        for word in process_tweet(tweet):\n",
        "            pair = (word, y)\n",
        "            freqs[pair] = freqs.get(pair, 0) + 1\n",
        "    return freqs\n",
        "\n",
        "def tweet_to_xy(tweet, pos_vocab, neg_vocab):\n",
        "    tokens = process_tweet(tweet)\n",
        "    pos_cnt = sum(tok in pos_vocab for tok in tokens)\n",
        "    neg_cnt = sum(tok in neg_vocab for tok in tokens)\n",
        "    return np.array([pos_cnt, neg_cnt])\n"
      ]
    },
    {
      "cell_type": "markdown",
      "id": "7488ea2d",
      "metadata": {
        "id": "7488ea2d"
      },
      "source": [
        "## 3️⃣ Full tweet corpus – build features & train\n",
        "\n",
        "We will now run the cleaned Tweets through a counter to get the frequency that words appear. By getting counts for positive and negative words we can then use these in our classifier down the road. Note, some words are listed as both positive and negative.\n",
        "\n",
        "We build two sets:\n",
        "\n",
        "pos_vocab: words that appear more than 5 times in positive tweets\n",
        "\n",
        "neg_vocab: words that appear more than 5 times in negative tweets"
      ]
    },
    {
      "cell_type": "code",
      "execution_count": null,
      "id": "625a1a22",
      "metadata": {
        "colab": {
          "base_uri": "https://localhost:8080/"
        },
        "id": "625a1a22",
        "outputId": "2fa1b41d-cb41-46ea-8e0a-105a39179d81"
      },
      "outputs": [
        {
          "output_type": "stream",
          "name": "stdout",
          "text": [
            "Positive vocab: 780 words | Negative vocab: 796 words\n",
            "Feature matrix shape: (10000, 2)\n"
          ]
        }
      ],
      "source": [
        "from nltk.corpus import twitter_samples\n",
        "import numpy as np\n",
        "\n",
        "pos_tweets = twitter_samples.strings('positive_tweets.json')\n",
        "neg_tweets = twitter_samples.strings('negative_tweets.json')\n",
        "tweets = pos_tweets + neg_tweets\n",
        "ys = np.append(np.ones(len(pos_tweets)), np.zeros(len(neg_tweets)))\n",
        "\n",
        "freqs = build_freqs(tweets, ys)\n",
        "\n",
        "# Vocab threshold\n",
        "pos_vocab = {w for (w,y) in freqs if y==1 and freqs[(w,1)] > 5}\n",
        "neg_vocab = {w for (w,y) in freqs if y==0 and freqs[(w,0)] > 5}\n",
        "\n",
        "print(f\"Positive vocab: {len(pos_vocab)} words | Negative vocab: {len(neg_vocab)} words\")\n",
        "\n",
        "X = np.array([tweet_to_xy(t, pos_vocab, neg_vocab) for t in tweets])\n",
        "print(\"Feature matrix shape:\", X.shape)\n"
      ]
    },
    {
      "cell_type": "markdown",
      "source": [
        "Let's print the top 5 positive, negative, and dual-purpose (pos and neg) words."
      ],
      "metadata": {
        "id": "HogAKHpy9ce3"
      },
      "id": "HogAKHpy9ce3"
    },
    {
      "cell_type": "code",
      "source": [
        "# Separate word counts\n",
        "from collections import defaultdict\n",
        "\n",
        "# Step 1: Build separate dicts for pos and neg counts\n",
        "pos_counts = defaultdict(int)\n",
        "neg_counts = defaultdict(int)\n",
        "\n",
        "for (word, label), count in freqs.items():\n",
        "    if label == 1:\n",
        "        pos_counts[word] += count\n",
        "    else:\n",
        "        neg_counts[word] += count\n",
        "\n",
        "# Step 2: Get top 5 positive words\n",
        "top_pos = sorted(pos_counts.items(), key=lambda x: x[1], reverse=True)[:5]\n",
        "\n",
        "# Step 3: Get top 5 negative words\n",
        "top_neg = sorted(neg_counts.items(), key=lambda x: x[1], reverse=True)[:5]\n",
        "\n",
        "# Step 4: Get top 5 shared words (appear in both pos and neg, ranked by total freq)\n",
        "shared_words = set(pos_counts) & set(neg_counts)\n",
        "shared_freqs = [(w, pos_counts[w] + neg_counts[w]) for w in shared_words]\n",
        "top_shared = sorted(shared_freqs, key=lambda x: x[1], reverse=True)[:5]\n",
        "\n",
        "# Step 5: Print everything\n",
        "print(\"🔵 Top 5 Positive Words:\")\n",
        "for w, c in top_pos:\n",
        "    print(f\"{w:<15} {c}\")\n",
        "\n",
        "print(\"\\n🔴 Top 5 Negative Words:\")\n",
        "for w, c in top_neg:\n",
        "    print(f\"{w:<15} {c}\")\n",
        "\n",
        "print(\"\\n🟣 Top 5 Shared Words (in both pos and neg):\")\n",
        "for w, c in top_shared:\n",
        "    print(f\"{w:<15} {c} (pos: {pos_counts[w]}, neg: {neg_counts[w]})\")\n"
      ],
      "metadata": {
        "colab": {
          "base_uri": "https://localhost:8080/"
        },
        "id": "hCKExSiW9Yae",
        "outputId": "3302ba75-f668-464e-99c2-37bc4f9df477"
      },
      "id": "hCKExSiW9Yae",
      "execution_count": null,
      "outputs": [
        {
          "output_type": "stream",
          "name": "stdout",
          "text": [
            "🔵 Top 5 Positive Words:\n",
            "thank           642\n",
            "follow          447\n",
            "love            399\n",
            "day             243\n",
            "u               241\n",
            "\n",
            "🔴 Top 5 Negative Words:\n",
            "im              475\n",
            "miss            300\n",
            "pleas           273\n",
            "follow          263\n",
            "want            246\n",
            "\n",
            "🟣 Top 5 Shared Words (in both pos and neg):\n",
            "thank           749 (pos: 642, neg: 107)\n",
            "im              716 (pos: 241, neg: 475)\n",
            "follow          710 (pos: 447, neg: 263)\n",
            "love            551 (pos: 399, neg: 152)\n",
            "like            452 (pos: 231, neg: 221)\n"
          ]
        }
      ]
    },
    {
      "cell_type": "markdown",
      "id": "ee3afcad",
      "metadata": {
        "id": "ee3afcad"
      },
      "source": [
        "### Train / test split & model performance\n",
        "\n",
        "Now we will train logistic regression. All this means is we'll use vocabulary-based features you built earlier (list of positive and negative words).\n",
        "\n",
        "In principle, the logistic regression used here is exactly the same as in your toy example. The core algorithm is identical. What changes is the scale and the input representation.\n",
        "\n"
      ]
    },
    {
      "cell_type": "markdown",
      "source": [
        "Difference between the toy example and this real example\n",
        "\n",
        "| Aspect                | Toy Example                    | Twitter Dataset Example                                  |\n",
        "| --------------------- | ------------------------------ | -------------------------------------------------------- |\n",
        "| **Features**          | 2D → `[pos_count, neg_count]`  |  2D → `[pos_count, neg_count]` |\n",
        "| **Data size**         | 6 sentences                    | 10,000 tweets                                            |\n",
        "| **Vocabulary source** | Manually defined small lexicon | Auto-generated from word frequencies                     |\n",
        "| **Separability**      | Fully separable in 2D          | Likely not linearly separable in high-dimensional space  |\n",
        "| **Visualization**     | Easy to plot (2D space)        | Easy to plot (2D space, just many data points)                       |"
      ],
      "metadata": {
        "id": "nlsCPW7Z7Wkx"
      },
      "id": "nlsCPW7Z7Wkx"
    },
    {
      "cell_type": "code",
      "execution_count": null,
      "id": "0a77584f",
      "metadata": {
        "colab": {
          "base_uri": "https://localhost:8080/",
          "height": 80
        },
        "id": "0a77584f",
        "outputId": "31839835-053b-4b75-fc31-566bc70ffa0a"
      },
      "outputs": [
        {
          "output_type": "execute_result",
          "data": {
            "text/plain": [
              "LogisticRegression(max_iter=1000)"
            ],
            "text/html": [
              "<style>#sk-container-id-1 {\n",
              "  /* Definition of color scheme common for light and dark mode */\n",
              "  --sklearn-color-text: #000;\n",
              "  --sklearn-color-text-muted: #666;\n",
              "  --sklearn-color-line: gray;\n",
              "  /* Definition of color scheme for unfitted estimators */\n",
              "  --sklearn-color-unfitted-level-0: #fff5e6;\n",
              "  --sklearn-color-unfitted-level-1: #f6e4d2;\n",
              "  --sklearn-color-unfitted-level-2: #ffe0b3;\n",
              "  --sklearn-color-unfitted-level-3: chocolate;\n",
              "  /* Definition of color scheme for fitted estimators */\n",
              "  --sklearn-color-fitted-level-0: #f0f8ff;\n",
              "  --sklearn-color-fitted-level-1: #d4ebff;\n",
              "  --sklearn-color-fitted-level-2: #b3dbfd;\n",
              "  --sklearn-color-fitted-level-3: cornflowerblue;\n",
              "\n",
              "  /* Specific color for light theme */\n",
              "  --sklearn-color-text-on-default-background: var(--sg-text-color, var(--theme-code-foreground, var(--jp-content-font-color1, black)));\n",
              "  --sklearn-color-background: var(--sg-background-color, var(--theme-background, var(--jp-layout-color0, white)));\n",
              "  --sklearn-color-border-box: var(--sg-text-color, var(--theme-code-foreground, var(--jp-content-font-color1, black)));\n",
              "  --sklearn-color-icon: #696969;\n",
              "\n",
              "  @media (prefers-color-scheme: dark) {\n",
              "    /* Redefinition of color scheme for dark theme */\n",
              "    --sklearn-color-text-on-default-background: var(--sg-text-color, var(--theme-code-foreground, var(--jp-content-font-color1, white)));\n",
              "    --sklearn-color-background: var(--sg-background-color, var(--theme-background, var(--jp-layout-color0, #111)));\n",
              "    --sklearn-color-border-box: var(--sg-text-color, var(--theme-code-foreground, var(--jp-content-font-color1, white)));\n",
              "    --sklearn-color-icon: #878787;\n",
              "  }\n",
              "}\n",
              "\n",
              "#sk-container-id-1 {\n",
              "  color: var(--sklearn-color-text);\n",
              "}\n",
              "\n",
              "#sk-container-id-1 pre {\n",
              "  padding: 0;\n",
              "}\n",
              "\n",
              "#sk-container-id-1 input.sk-hidden--visually {\n",
              "  border: 0;\n",
              "  clip: rect(1px 1px 1px 1px);\n",
              "  clip: rect(1px, 1px, 1px, 1px);\n",
              "  height: 1px;\n",
              "  margin: -1px;\n",
              "  overflow: hidden;\n",
              "  padding: 0;\n",
              "  position: absolute;\n",
              "  width: 1px;\n",
              "}\n",
              "\n",
              "#sk-container-id-1 div.sk-dashed-wrapped {\n",
              "  border: 1px dashed var(--sklearn-color-line);\n",
              "  margin: 0 0.4em 0.5em 0.4em;\n",
              "  box-sizing: border-box;\n",
              "  padding-bottom: 0.4em;\n",
              "  background-color: var(--sklearn-color-background);\n",
              "}\n",
              "\n",
              "#sk-container-id-1 div.sk-container {\n",
              "  /* jupyter's `normalize.less` sets `[hidden] { display: none; }`\n",
              "     but bootstrap.min.css set `[hidden] { display: none !important; }`\n",
              "     so we also need the `!important` here to be able to override the\n",
              "     default hidden behavior on the sphinx rendered scikit-learn.org.\n",
              "     See: https://github.com/scikit-learn/scikit-learn/issues/21755 */\n",
              "  display: inline-block !important;\n",
              "  position: relative;\n",
              "}\n",
              "\n",
              "#sk-container-id-1 div.sk-text-repr-fallback {\n",
              "  display: none;\n",
              "}\n",
              "\n",
              "div.sk-parallel-item,\n",
              "div.sk-serial,\n",
              "div.sk-item {\n",
              "  /* draw centered vertical line to link estimators */\n",
              "  background-image: linear-gradient(var(--sklearn-color-text-on-default-background), var(--sklearn-color-text-on-default-background));\n",
              "  background-size: 2px 100%;\n",
              "  background-repeat: no-repeat;\n",
              "  background-position: center center;\n",
              "}\n",
              "\n",
              "/* Parallel-specific style estimator block */\n",
              "\n",
              "#sk-container-id-1 div.sk-parallel-item::after {\n",
              "  content: \"\";\n",
              "  width: 100%;\n",
              "  border-bottom: 2px solid var(--sklearn-color-text-on-default-background);\n",
              "  flex-grow: 1;\n",
              "}\n",
              "\n",
              "#sk-container-id-1 div.sk-parallel {\n",
              "  display: flex;\n",
              "  align-items: stretch;\n",
              "  justify-content: center;\n",
              "  background-color: var(--sklearn-color-background);\n",
              "  position: relative;\n",
              "}\n",
              "\n",
              "#sk-container-id-1 div.sk-parallel-item {\n",
              "  display: flex;\n",
              "  flex-direction: column;\n",
              "}\n",
              "\n",
              "#sk-container-id-1 div.sk-parallel-item:first-child::after {\n",
              "  align-self: flex-end;\n",
              "  width: 50%;\n",
              "}\n",
              "\n",
              "#sk-container-id-1 div.sk-parallel-item:last-child::after {\n",
              "  align-self: flex-start;\n",
              "  width: 50%;\n",
              "}\n",
              "\n",
              "#sk-container-id-1 div.sk-parallel-item:only-child::after {\n",
              "  width: 0;\n",
              "}\n",
              "\n",
              "/* Serial-specific style estimator block */\n",
              "\n",
              "#sk-container-id-1 div.sk-serial {\n",
              "  display: flex;\n",
              "  flex-direction: column;\n",
              "  align-items: center;\n",
              "  background-color: var(--sklearn-color-background);\n",
              "  padding-right: 1em;\n",
              "  padding-left: 1em;\n",
              "}\n",
              "\n",
              "\n",
              "/* Toggleable style: style used for estimator/Pipeline/ColumnTransformer box that is\n",
              "clickable and can be expanded/collapsed.\n",
              "- Pipeline and ColumnTransformer use this feature and define the default style\n",
              "- Estimators will overwrite some part of the style using the `sk-estimator` class\n",
              "*/\n",
              "\n",
              "/* Pipeline and ColumnTransformer style (default) */\n",
              "\n",
              "#sk-container-id-1 div.sk-toggleable {\n",
              "  /* Default theme specific background. It is overwritten whether we have a\n",
              "  specific estimator or a Pipeline/ColumnTransformer */\n",
              "  background-color: var(--sklearn-color-background);\n",
              "}\n",
              "\n",
              "/* Toggleable label */\n",
              "#sk-container-id-1 label.sk-toggleable__label {\n",
              "  cursor: pointer;\n",
              "  display: flex;\n",
              "  width: 100%;\n",
              "  margin-bottom: 0;\n",
              "  padding: 0.5em;\n",
              "  box-sizing: border-box;\n",
              "  text-align: center;\n",
              "  align-items: start;\n",
              "  justify-content: space-between;\n",
              "  gap: 0.5em;\n",
              "}\n",
              "\n",
              "#sk-container-id-1 label.sk-toggleable__label .caption {\n",
              "  font-size: 0.6rem;\n",
              "  font-weight: lighter;\n",
              "  color: var(--sklearn-color-text-muted);\n",
              "}\n",
              "\n",
              "#sk-container-id-1 label.sk-toggleable__label-arrow:before {\n",
              "  /* Arrow on the left of the label */\n",
              "  content: \"▸\";\n",
              "  float: left;\n",
              "  margin-right: 0.25em;\n",
              "  color: var(--sklearn-color-icon);\n",
              "}\n",
              "\n",
              "#sk-container-id-1 label.sk-toggleable__label-arrow:hover:before {\n",
              "  color: var(--sklearn-color-text);\n",
              "}\n",
              "\n",
              "/* Toggleable content - dropdown */\n",
              "\n",
              "#sk-container-id-1 div.sk-toggleable__content {\n",
              "  max-height: 0;\n",
              "  max-width: 0;\n",
              "  overflow: hidden;\n",
              "  text-align: left;\n",
              "  /* unfitted */\n",
              "  background-color: var(--sklearn-color-unfitted-level-0);\n",
              "}\n",
              "\n",
              "#sk-container-id-1 div.sk-toggleable__content.fitted {\n",
              "  /* fitted */\n",
              "  background-color: var(--sklearn-color-fitted-level-0);\n",
              "}\n",
              "\n",
              "#sk-container-id-1 div.sk-toggleable__content pre {\n",
              "  margin: 0.2em;\n",
              "  border-radius: 0.25em;\n",
              "  color: var(--sklearn-color-text);\n",
              "  /* unfitted */\n",
              "  background-color: var(--sklearn-color-unfitted-level-0);\n",
              "}\n",
              "\n",
              "#sk-container-id-1 div.sk-toggleable__content.fitted pre {\n",
              "  /* unfitted */\n",
              "  background-color: var(--sklearn-color-fitted-level-0);\n",
              "}\n",
              "\n",
              "#sk-container-id-1 input.sk-toggleable__control:checked~div.sk-toggleable__content {\n",
              "  /* Expand drop-down */\n",
              "  max-height: 200px;\n",
              "  max-width: 100%;\n",
              "  overflow: auto;\n",
              "}\n",
              "\n",
              "#sk-container-id-1 input.sk-toggleable__control:checked~label.sk-toggleable__label-arrow:before {\n",
              "  content: \"▾\";\n",
              "}\n",
              "\n",
              "/* Pipeline/ColumnTransformer-specific style */\n",
              "\n",
              "#sk-container-id-1 div.sk-label input.sk-toggleable__control:checked~label.sk-toggleable__label {\n",
              "  color: var(--sklearn-color-text);\n",
              "  background-color: var(--sklearn-color-unfitted-level-2);\n",
              "}\n",
              "\n",
              "#sk-container-id-1 div.sk-label.fitted input.sk-toggleable__control:checked~label.sk-toggleable__label {\n",
              "  background-color: var(--sklearn-color-fitted-level-2);\n",
              "}\n",
              "\n",
              "/* Estimator-specific style */\n",
              "\n",
              "/* Colorize estimator box */\n",
              "#sk-container-id-1 div.sk-estimator input.sk-toggleable__control:checked~label.sk-toggleable__label {\n",
              "  /* unfitted */\n",
              "  background-color: var(--sklearn-color-unfitted-level-2);\n",
              "}\n",
              "\n",
              "#sk-container-id-1 div.sk-estimator.fitted input.sk-toggleable__control:checked~label.sk-toggleable__label {\n",
              "  /* fitted */\n",
              "  background-color: var(--sklearn-color-fitted-level-2);\n",
              "}\n",
              "\n",
              "#sk-container-id-1 div.sk-label label.sk-toggleable__label,\n",
              "#sk-container-id-1 div.sk-label label {\n",
              "  /* The background is the default theme color */\n",
              "  color: var(--sklearn-color-text-on-default-background);\n",
              "}\n",
              "\n",
              "/* On hover, darken the color of the background */\n",
              "#sk-container-id-1 div.sk-label:hover label.sk-toggleable__label {\n",
              "  color: var(--sklearn-color-text);\n",
              "  background-color: var(--sklearn-color-unfitted-level-2);\n",
              "}\n",
              "\n",
              "/* Label box, darken color on hover, fitted */\n",
              "#sk-container-id-1 div.sk-label.fitted:hover label.sk-toggleable__label.fitted {\n",
              "  color: var(--sklearn-color-text);\n",
              "  background-color: var(--sklearn-color-fitted-level-2);\n",
              "}\n",
              "\n",
              "/* Estimator label */\n",
              "\n",
              "#sk-container-id-1 div.sk-label label {\n",
              "  font-family: monospace;\n",
              "  font-weight: bold;\n",
              "  display: inline-block;\n",
              "  line-height: 1.2em;\n",
              "}\n",
              "\n",
              "#sk-container-id-1 div.sk-label-container {\n",
              "  text-align: center;\n",
              "}\n",
              "\n",
              "/* Estimator-specific */\n",
              "#sk-container-id-1 div.sk-estimator {\n",
              "  font-family: monospace;\n",
              "  border: 1px dotted var(--sklearn-color-border-box);\n",
              "  border-radius: 0.25em;\n",
              "  box-sizing: border-box;\n",
              "  margin-bottom: 0.5em;\n",
              "  /* unfitted */\n",
              "  background-color: var(--sklearn-color-unfitted-level-0);\n",
              "}\n",
              "\n",
              "#sk-container-id-1 div.sk-estimator.fitted {\n",
              "  /* fitted */\n",
              "  background-color: var(--sklearn-color-fitted-level-0);\n",
              "}\n",
              "\n",
              "/* on hover */\n",
              "#sk-container-id-1 div.sk-estimator:hover {\n",
              "  /* unfitted */\n",
              "  background-color: var(--sklearn-color-unfitted-level-2);\n",
              "}\n",
              "\n",
              "#sk-container-id-1 div.sk-estimator.fitted:hover {\n",
              "  /* fitted */\n",
              "  background-color: var(--sklearn-color-fitted-level-2);\n",
              "}\n",
              "\n",
              "/* Specification for estimator info (e.g. \"i\" and \"?\") */\n",
              "\n",
              "/* Common style for \"i\" and \"?\" */\n",
              "\n",
              ".sk-estimator-doc-link,\n",
              "a:link.sk-estimator-doc-link,\n",
              "a:visited.sk-estimator-doc-link {\n",
              "  float: right;\n",
              "  font-size: smaller;\n",
              "  line-height: 1em;\n",
              "  font-family: monospace;\n",
              "  background-color: var(--sklearn-color-background);\n",
              "  border-radius: 1em;\n",
              "  height: 1em;\n",
              "  width: 1em;\n",
              "  text-decoration: none !important;\n",
              "  margin-left: 0.5em;\n",
              "  text-align: center;\n",
              "  /* unfitted */\n",
              "  border: var(--sklearn-color-unfitted-level-1) 1pt solid;\n",
              "  color: var(--sklearn-color-unfitted-level-1);\n",
              "}\n",
              "\n",
              ".sk-estimator-doc-link.fitted,\n",
              "a:link.sk-estimator-doc-link.fitted,\n",
              "a:visited.sk-estimator-doc-link.fitted {\n",
              "  /* fitted */\n",
              "  border: var(--sklearn-color-fitted-level-1) 1pt solid;\n",
              "  color: var(--sklearn-color-fitted-level-1);\n",
              "}\n",
              "\n",
              "/* On hover */\n",
              "div.sk-estimator:hover .sk-estimator-doc-link:hover,\n",
              ".sk-estimator-doc-link:hover,\n",
              "div.sk-label-container:hover .sk-estimator-doc-link:hover,\n",
              ".sk-estimator-doc-link:hover {\n",
              "  /* unfitted */\n",
              "  background-color: var(--sklearn-color-unfitted-level-3);\n",
              "  color: var(--sklearn-color-background);\n",
              "  text-decoration: none;\n",
              "}\n",
              "\n",
              "div.sk-estimator.fitted:hover .sk-estimator-doc-link.fitted:hover,\n",
              ".sk-estimator-doc-link.fitted:hover,\n",
              "div.sk-label-container:hover .sk-estimator-doc-link.fitted:hover,\n",
              ".sk-estimator-doc-link.fitted:hover {\n",
              "  /* fitted */\n",
              "  background-color: var(--sklearn-color-fitted-level-3);\n",
              "  color: var(--sklearn-color-background);\n",
              "  text-decoration: none;\n",
              "}\n",
              "\n",
              "/* Span, style for the box shown on hovering the info icon */\n",
              ".sk-estimator-doc-link span {\n",
              "  display: none;\n",
              "  z-index: 9999;\n",
              "  position: relative;\n",
              "  font-weight: normal;\n",
              "  right: .2ex;\n",
              "  padding: .5ex;\n",
              "  margin: .5ex;\n",
              "  width: min-content;\n",
              "  min-width: 20ex;\n",
              "  max-width: 50ex;\n",
              "  color: var(--sklearn-color-text);\n",
              "  box-shadow: 2pt 2pt 4pt #999;\n",
              "  /* unfitted */\n",
              "  background: var(--sklearn-color-unfitted-level-0);\n",
              "  border: .5pt solid var(--sklearn-color-unfitted-level-3);\n",
              "}\n",
              "\n",
              ".sk-estimator-doc-link.fitted span {\n",
              "  /* fitted */\n",
              "  background: var(--sklearn-color-fitted-level-0);\n",
              "  border: var(--sklearn-color-fitted-level-3);\n",
              "}\n",
              "\n",
              ".sk-estimator-doc-link:hover span {\n",
              "  display: block;\n",
              "}\n",
              "\n",
              "/* \"?\"-specific style due to the `<a>` HTML tag */\n",
              "\n",
              "#sk-container-id-1 a.estimator_doc_link {\n",
              "  float: right;\n",
              "  font-size: 1rem;\n",
              "  line-height: 1em;\n",
              "  font-family: monospace;\n",
              "  background-color: var(--sklearn-color-background);\n",
              "  border-radius: 1rem;\n",
              "  height: 1rem;\n",
              "  width: 1rem;\n",
              "  text-decoration: none;\n",
              "  /* unfitted */\n",
              "  color: var(--sklearn-color-unfitted-level-1);\n",
              "  border: var(--sklearn-color-unfitted-level-1) 1pt solid;\n",
              "}\n",
              "\n",
              "#sk-container-id-1 a.estimator_doc_link.fitted {\n",
              "  /* fitted */\n",
              "  border: var(--sklearn-color-fitted-level-1) 1pt solid;\n",
              "  color: var(--sklearn-color-fitted-level-1);\n",
              "}\n",
              "\n",
              "/* On hover */\n",
              "#sk-container-id-1 a.estimator_doc_link:hover {\n",
              "  /* unfitted */\n",
              "  background-color: var(--sklearn-color-unfitted-level-3);\n",
              "  color: var(--sklearn-color-background);\n",
              "  text-decoration: none;\n",
              "}\n",
              "\n",
              "#sk-container-id-1 a.estimator_doc_link.fitted:hover {\n",
              "  /* fitted */\n",
              "  background-color: var(--sklearn-color-fitted-level-3);\n",
              "}\n",
              "</style><div id=\"sk-container-id-1\" class=\"sk-top-container\"><div class=\"sk-text-repr-fallback\"><pre>LogisticRegression(max_iter=1000)</pre><b>In a Jupyter environment, please rerun this cell to show the HTML representation or trust the notebook. <br />On GitHub, the HTML representation is unable to render, please try loading this page with nbviewer.org.</b></div><div class=\"sk-container\" hidden><div class=\"sk-item\"><div class=\"sk-estimator fitted sk-toggleable\"><input class=\"sk-toggleable__control sk-hidden--visually\" id=\"sk-estimator-id-1\" type=\"checkbox\" checked><label for=\"sk-estimator-id-1\" class=\"sk-toggleable__label fitted sk-toggleable__label-arrow\"><div><div>LogisticRegression</div></div><div><a class=\"sk-estimator-doc-link fitted\" rel=\"noreferrer\" target=\"_blank\" href=\"https://scikit-learn.org/1.6/modules/generated/sklearn.linear_model.LogisticRegression.html\">?<span>Documentation for LogisticRegression</span></a><span class=\"sk-estimator-doc-link fitted\">i<span>Fitted</span></span></div></label><div class=\"sk-toggleable__content fitted\"><pre>LogisticRegression(max_iter=1000)</pre></div> </div></div></div></div>"
            ]
          },
          "metadata": {},
          "execution_count": 17
        }
      ],
      "source": [
        "#import the ML packages\n",
        "from sklearn.model_selection import train_test_split\n",
        "from sklearn.linear_model import LogisticRegression\n",
        "from sklearn.metrics import accuracy_score, confusion_matrix, ConfusionMatrixDisplay\n",
        "\n",
        "#split the 10k Tweets into Training and Testing sets\n",
        "X_train, X_test, y_train, y_test = train_test_split(X, ys, test_size=0.2, random_state=42, stratify=ys)\n",
        "\n",
        "#Setup the model\n",
        "model = LogisticRegression(max_iter=1000)\n",
        "model.fit(X_train, y_train)"
      ]
    },
    {
      "cell_type": "markdown",
      "source": [
        "Now plot the outcome"
      ],
      "metadata": {
        "id": "i_AA7FODhe9t"
      },
      "id": "i_AA7FODhe9t"
    },
    {
      "cell_type": "code",
      "source": [
        "import numpy as np\n",
        "import matplotlib.pyplot as plt\n",
        "\n",
        "# Generate a mesh grid over feature space\n",
        "h = 0.01  # grid step\n",
        "x_min, x_max = X[:, 0].min() - 0.5, X[:, 0].max() + 0.5\n",
        "y_min, y_max = X[:, 1].min() - 0.5, X[:, 1].max() + 0.5\n",
        "xx, yy = np.meshgrid(np.arange(x_min, x_max, h),\n",
        "                     np.arange(y_min, y_max, h))\n",
        "\n",
        "# Predict on the grid\n",
        "Z = model.predict(np.c_[xx.ravel(), yy.ravel()])\n",
        "Z = Z.reshape(xx.shape)\n",
        "\n",
        "# Plot the decision boundary\n",
        "plt.figure(figsize=(10, 6))\n",
        "plt.contourf(xx, yy, Z, alpha=0.3, cmap=plt.cm.Paired)\n",
        "\n",
        "# Plot the original data points\n",
        "scatter = plt.scatter(X[:, 0], X[:, 1], c=ys, edgecolors='k', cmap=plt.cm.Paired)\n",
        "plt.xlabel(\"Positive Words\")\n",
        "plt.ylabel(\"Negative Words\")\n",
        "plt.title(\"Logistic Regression Decision Boundary\")\n",
        "plt.legend(*scatter.legend_elements(), title=\"Tweet Sentiment\")\n",
        "plt.grid(True)\n",
        "plt.show()\n"
      ],
      "metadata": {
        "id": "wPs8FpmUhHO-",
        "outputId": "4e54a195-18a1-46bd-d5d4-49d35ae349ea",
        "colab": {
          "base_uri": "https://localhost:8080/",
          "height": 564
        }
      },
      "id": "wPs8FpmUhHO-",
      "execution_count": null,
      "outputs": [
        {
          "output_type": "display_data",
          "data": {
            "text/plain": [
              "<Figure size 1000x600 with 1 Axes>"
            ],
            "image/png": "[encoded data removed]"
          },
          "metadata": {}
        }
      ]
    },
    {
      "cell_type": "markdown",
      "source": [
        "How did we do? Just eyeballing it, you can see many Tweets \"on the wrong side of the curve.\" Also, many tweets contain *no* positive words (x=0) or negative words (y=0); that’s why points hug the axes.\n",
        "\n",
        "Looks like our line isn't doing a great job of segmenting the content. Think about another curve that might fit better? Or perhaps additional information about each Tweet that could help.\n",
        "\n",
        "\n",
        "Now let's get back some of the actual metrics from the ML package we ran to understand better how we did."
      ],
      "metadata": {
        "id": "sEgiNqzhgC_p"
      },
      "id": "sEgiNqzhgC_p"
    },
    {
      "cell_type": "code",
      "source": [
        "print(\"Train accuracy:\", accuracy_score(y_train, model.predict(X_train)))\n",
        "print(\"Test  accuracy:\", accuracy_score(y_test,  model.predict(X_test)))"
      ],
      "metadata": {
        "id": "TSpJcF5MiBW5",
        "outputId": "e0e42d96-f242-4d42-a572-f828ce3c3e47",
        "colab": {
          "base_uri": "https://localhost:8080/",
          "height": 501
        }
      },
      "id": "TSpJcF5MiBW5",
      "execution_count": null,
      "outputs": [
        {
          "output_type": "stream",
          "name": "stdout",
          "text": [
            "Train accuracy: 0.662125\n",
            "Test  accuracy: 0.6615\n"
          ]
        },
        {
          "output_type": "execute_result",
          "data": {
            "text/plain": [
              "<sklearn.metrics._plot.confusion_matrix.ConfusionMatrixDisplay at 0x7847a6d773d0>"
            ]
          },
          "metadata": {},
          "execution_count": 19
        },
        {
          "output_type": "display_data",
          "data": {
            "text/plain": [
              "<Figure size 640x480 with 2 Axes>"
            ],
            "image/png": "[encoded data removed]"
          },
          "metadata": {}
        }
      ]
    },
    {
      "cell_type": "markdown",
      "source": [
        "\n",
        "✅ Train accuracy: 0.662125\n",
        "This means the model correctly predicted about 66.2% of the training data — it learned enough patterns to get 66% of its predictions right on the data it was trained on.\n",
        "\n",
        "✅ Test accuracy: 0.6615\n",
        "This is the accuracy on unseen test data, and it's 66.15%, very close to the training accuracy.\n",
        "\n",
        "The closeness of train and test accuracy (66.2% vs 66.15%) suggests that:\n",
        "\n",
        "The model is not overfitting (it generalizes well from training to test data).\n",
        "\n",
        "It may not be very powerful — it learned, but not beyond basic patterns."
      ],
      "metadata": {
        "id": "LwurY64UiH5F"
      },
      "id": "LwurY64UiH5F"
    },
    {
      "cell_type": "markdown",
      "id": "1541b262",
      "metadata": {
        "id": "1541b262"
      },
      "source": [
        "### Visualising tweet distribution & decision boundary\n",
        "\n",
        "Now lets create a \"confusion matrix\". This is a confusion matrix plot that shows how your logistic regression model performed on the test set for Tweet sentiment classification. It will have values something like this.\n",
        "\n",
        "|                    | **Predicted: Negative**          | **Predicted: Positive**          |\n",
        "| ------------------ | -------------------------------- | -------------------------------- |\n",
        "| **True: Negative** | **753** = ✅ True Negatives (TN)  | **247** = ❌ False Positives (FP) |\n",
        "| **True: Positive** | **430** = ❌ False Negatives (FN) | **570** = ✅ True Positives (TP)  |\n"
      ]
    },
    {
      "cell_type": "code",
      "source": [
        "\n",
        "ConfusionMatrixDisplay.from_estimator(model, X_test, y_test, display_labels=['neg','pos'])"
      ],
      "metadata": {
        "id": "ctJ0Yf7P08eN"
      },
      "id": "ctJ0Yf7P08eN",
      "execution_count": null,
      "outputs": []
    },
    {
      "cell_type": "markdown",
      "id": "be52c2b3",
      "metadata": {
        "id": "be52c2b3"
      },
      "source": [
        "## 4️⃣ Interactive Gradio sentiment tester\n",
        "\n",
        "Now we'll build a fun little UI app that takes the model WE JUST TRAINED and let's you do a sentiment analysis of any sentence."
      ]
    },
    {
      "cell_type": "code",
      "execution_count": null,
      "id": "2f043bc6",
      "metadata": {
        "colab": {
          "base_uri": "https://localhost:8080/",
          "height": 645
        },
        "id": "2f043bc6",
        "outputId": "40084c75-5b16-477b-a5c2-965ec84b4030"
      },
      "outputs": [
        {
          "output_type": "stream",
          "name": "stdout",
          "text": [
            "It looks like you are running Gradio on a hosted Jupyter notebook, which requires `share=True`. Automatically setting `share=True` (you can turn this off by setting `share=False` in `launch()` explicitly).\n",
            "\n",
            "Colab notebook detected. To show errors in colab notebook, set debug=True in launch()\n",
            "* Running on public URL: https://045f37645f76df596a.gradio.live\n",
            "\n",
            "This share link expires in 1 week. For free permanent hosting and GPU upgrades, run `gradio deploy` from the terminal in the working directory to deploy to Hugging Face Spaces (https://huggingface.co/spaces)\n"
          ]
        },
        {
          "output_type": "display_data",
          "data": {
            "text/plain": [
              "<IPython.core.display.HTML object>"
            ],
            "text/html": [
              "<div><iframe src=\"https://045f37645f76df596a.gradio.live\" width=\"100%\" height=\"500\" allow=\"autoplay; camera; microphone; clipboard-read; clipboard-write;\" frameborder=\"0\" allowfullscreen></iframe></div>"
            ]
          },
          "metadata": {}
        },
        {
          "output_type": "execute_result",
          "data": {
            "text/plain": []
          },
          "metadata": {},
          "execution_count": 10
        }
      ],
      "source": [
        "import gradio as gr\n",
        "from collections import Counter\n",
        "\n",
        "def predict_sentiment(text):\n",
        "    feats = tweet_to_xy(text, pos_vocab, neg_vocab)\n",
        "    prob_pos = float(model.predict_proba([feats])[0][1])\n",
        "    label = \"Positive 😊\" if prob_pos >= 0.5 else \"Negative 😞\"\n",
        "    return {\n",
        "        \"Positive-count\": int(feats[0]),\n",
        "        \"Negative-count\": int(feats[1]),\n",
        "        \"Prob‑positive\": round(prob_pos, 3),\n",
        "        \"Prediction\": label\n",
        "    }\n",
        "\n",
        "with gr.Blocks() as demo:\n",
        "    gr.Markdown(\"### 🎛️ Sentiment tester (Logistic Regression)\")\n",
        "    txt = gr.Textbox(label=\"Enter tweet text\", lines=3)\n",
        "    out = gr.JSON(label=\"Model output\")\n",
        "    txt.submit(predict_sentiment, txt, out)\n",
        "    gr.Button(\"Run\").click(predict_sentiment, txt, out)\n",
        "\n",
        "# Uncomment the next line when running in Colab\n",
        "demo.launch()\n"
      ]
    }
  ],
  "metadata": {
    "kernelspec": {
      "display_name": "Python 3",
      "name": "python3"
    },
    "language_info": {
      "name": "python"
    },
    "colab": {
      "provenance": []
    }
  },
  "nbformat": 4,
  "nbformat_minor": 5
}