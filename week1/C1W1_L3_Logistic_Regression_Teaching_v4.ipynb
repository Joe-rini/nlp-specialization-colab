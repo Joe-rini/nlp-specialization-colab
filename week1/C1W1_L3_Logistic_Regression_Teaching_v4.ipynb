{
  "cells": [
    {
      "cell_type": "markdown",
      "id": "dc633f31",
      "metadata": {
        "id": "dc633f31"
      },
      "source": [
        "# Lesson L3 – Logistic Regression for Tweet Sentiment 📈❤️💔\n",
        "\n",
        "Welcome to **Lesson L3** of our Colab‑ready DeepLearning.AI NLP remake!\n",
        "\n",
        "## What you’ll learn\n",
        "* Convert cleaned tweets into **numeric features**  \n",
        "* Train a **Logistic Regression** classifier for sentiment  \n",
        "* **Visualise** tweets in feature‑space and the model’s decision boundary  \n",
        "* Evaluate accuracy & interpret the learned weights  \n",
        "* Experiment live with an **interactive Gradio playground**\n",
        "\n",
        "## Why this matters\n",
        "Getting from *word counts* → *predictions* is the heart of many NLP systems.  \n",
        "Logistic Regression is a surprisingly strong baseline and lays the groundwork for neural networks.\n",
        "\n",
        "## Roadmap\n",
        "1. **Setup & installs** – one cell, ready for Colab  \n",
        "2. **Toy example** – six handmade tweets to see LR end‑to‑end  \n",
        "3. **Real dataset** – 10 k NLTK tweets, build features on the fly  \n",
        "4. **Visualisation** – scatter & decision boundary  \n",
        "5. **Evaluation** – accuracy + confusion matrix  \n",
        "6. **Gradio playground** – paste any text and get a sentiment score  \n",
        "\n",
        "_👉 Let’s dive in!_\n"
      ]
    },
    {
      "cell_type": "code",
      "source": [
        "import pandas as pd"
      ],
      "metadata": {
        "id": "SWiTZunq9i7K"
      },
      "id": "SWiTZunq9i7K",
      "execution_count": 14,
      "outputs": []
    },
    {
      "cell_type": "code",
      "execution_count": 2,
      "id": "1fef2063",
      "metadata": {
        "colab": {
          "base_uri": "https://localhost:8080/"
        },
        "id": "1fef2063",
        "outputId": "9a03c092-9932-451f-8679-ac82eb5dbfab"
      },
      "outputs": [
        {
          "output_type": "stream",
          "name": "stdout",
          "text": [
            "✅ Environment & NLTK corpora ready!\n"
          ]
        }
      ],
      "source": [
        "# 🍀 Colab setup – run this first!\n",
        "# Installs pinned to avoid version conflicts with Colab pre‑installs\n",
        "!pip -q install --upgrade \\\n",
        "        \"nltk\" \\\n",
        "        \"wordcloud\" \\\n",
        "        \"numpy>=1.26,<2.1\" \\\n",
        "        \"scikit-learn<1.7\" \\\n",
        "        \"gradio>=4.27.0\" \\\n",
        "        \"websockets>=13,<15\" --progress-bar off\n",
        "\n",
        "import nltk, ssl\n",
        "try:\n",
        "    _create_unverified_https_context = ssl._create_unverified_context\n",
        "    ssl._create_default_https_context = _create_unverified_https_context\n",
        "except AttributeError:\n",
        "    pass\n",
        "\n",
        "for resource in ['stopwords', 'punkt', 'twitter_samples']:\n",
        "    nltk.download(resource, quiet=True)\n",
        "\n",
        "print(\"✅ Environment & NLTK corpora ready!\")\n"
      ]
    },
    {
      "cell_type": "markdown",
      "source": [
        "## Let's build a classifier. First Toy, then real!\n",
        "\n",
        "For the rest of the Colab, we are going to build a bag-of-words–style logistic regression classifier. Our goal is to figure out how much individual words contribute to determining whether a tweet expresses a positive or negative sentiment. To keep things simple and interpretable, we won’t model word order or complex phrasing. Instead, we'll rely on whether certain positive or negative words appear in each tweet, and how often. In the end, each tweet will be reduced to a simple feature vector: just a count of how many positive and how many negative words it contains. Logistic regression will then learn to use those counts to predict sentiment."
      ],
      "metadata": {
        "id": "QYH32TVg84oY"
      },
      "id": "QYH32TVg84oY"
    },
    {
      "cell_type": "markdown",
      "id": "08216daf",
      "metadata": {
        "id": "08216daf"
      },
      "source": [
        "## 1️⃣ Toy example – six mini‑tweets\n",
        "We will take the 6 Tweets, clean them (as in previous lessions) and then use mini sentiment lexicon with the to_features function, to define the sentences as negative or positive by seeing if the key words appear in the sentence. It returns a 2-dimensional feature vector for any given input tokens, where:\n",
        "\n",
        "pos_cnt: the number of words in the token list that are found in the positive lexicon (pos_lex)\n",
        "\n",
        "neg_cnt: the number of words in the token list that are found in the negative lexicon (neg_lex)\n",
        "\n",
        "So each sentence becomes: [positive word count, negative word count]. A given sentence may have several positive and/or negative words.\n",
        "\n",
        "Key takeaway: in the end we will have a system that looks at how many positive vs negative words are in a tweet, in order to know if the next tweet should be classified as positive or negative.\n",
        "\n",
        "A bit deeper math intuition:\n",
        "Only the difference matters — it doesn't care whether the values are [2, 1] or [1, 0], since both give d = 1.\n",
        "\n",
        "If your model learns weights where the difference dominates, then [2, 1] and [1, 0] are treated the same.\n",
        "\n",
        "You could think of it as us arriving at a single coeficient value for the difference between postivie or negative, where the coeficient applies to Sigmoid (non-linear function with output 1 or 0).\n",
        "And by the way, we could develop arbitrarily complex deep neural network (DNN) to solve the same task… but it would be massive overkill.\n",
        "\n",
        "Now on to the exercise"
      ]
    },
    {
      "cell_type": "markdown",
      "source": [
        "| Original Tweet                     | Cleaned Tokens              | Features \\[pos\\_cnt, neg\\_cnt] |\n",
        "| ---------------------------------- | --------------------------- | ------------------------------ |\n",
        "| \"I love this!\"                     | \\['love']                   | \\[1, 0]                        |\n",
        "| \"This is great and makes me happy\" | \\['great', 'make', 'happi'] | \\[2, 0]                        |\n",
        "| \"So happy, great vibes\"            | \\['happi', 'great', 'vibe'] | \\[2, 0]                        |\n",
        "| \"I hate this, really bad\"          | \\['hate', 'realli', 'bad']  | \\[0, 2]                        |\n",
        "| \"This is sad and bad\"              | \\['sad', 'bad']             | \\[0, 2]                        |\n",
        "| \"I hate it so much\"                | \\['hate', 'much']           | \\[0, 1]                        |\n"
      ],
      "metadata": {
        "id": "fgPABnuW2Nj3"
      },
      "id": "fgPABnuW2Nj3"
    },
    {
      "cell_type": "code",
      "execution_count": 12,
      "id": "82ccb976",
      "metadata": {
        "id": "82ccb976"
      },
      "outputs": [],
      "source": [
        "from nltk.stem import PorterStemmer\n",
        "from nltk.corpus import stopwords\n",
        "import re, numpy as np, matplotlib.pyplot as plt\n",
        "from sklearn.linear_model import LogisticRegression\n",
        "\n",
        "stemmer = PorterStemmer()\n",
        "stop_words = set(stopwords.words('english'))\n",
        "\n",
        "def simple_process(sentence):\n",
        "    sentence = sentence.lower()\n",
        "    sentence = re.sub(r'[^a-z\\s]', '', sentence)\n",
        "    return [stemmer.stem(w) for w in sentence.split() if w not in stop_words]\n",
        "\n",
        "# Mini sentiment lexicon\n",
        "pos_lex = {'love','great','happy'}\n",
        "neg_lex = {'hate','bad','sad'}\n",
        "\n",
        "def to_features(tokens):\n",
        "    pos_cnt = sum(w in pos_lex for w in tokens)\n",
        "    neg_cnt = sum(w in neg_lex for w in tokens)\n",
        "    return [pos_cnt, neg_cnt]\n",
        "#The 6 sentences are pre-defined as postive or negative (see np.array which has 1,1,1,0,0,0)\n",
        "toy_tweets = [\n",
        "    \"I love this!\",\n",
        "    \"This is great and makes me happy\",\n",
        "    \"So happy, great vibes\",\n",
        "    \"I hate this, really bad\",\n",
        "    \"This is sad and bad\",\n",
        "    \"I hate it so much\"\n",
        "]\n"
      ]
    },
    {
      "cell_type": "markdown",
      "source": [
        "For each sentence, the remaining cleaned tokens are evaluated for whether they are positive or negative. This could be visualized in a table like this:\n",
        "\n",
        "| Original Tweet                     | Cleaned Tokens              | Features \\[pos\\_cnt, neg\\_cnt] |\n",
        "| ---------------------------------- | --------------------------- | ------------------------------ |\n",
        "| \"I love this!\"                     | \\['love']                   | \\[1, 0]                        |\n",
        "| \"This is great and makes me happy\" | \\['great', 'make', 'happi'] | \\[2, 0]                        |\n",
        "| \"So happy, great vibes\"            | \\['happi', 'great', 'vibe'] | \\[2, 0]                        |\n",
        "| \"I hate this, really bad\"          | \\['hate', 'realli', 'bad']  | \\[0, 2]                        |\n",
        "| \"This is sad and bad\"              | \\['sad', 'bad']             | \\[0, 2]                        |\n",
        "| \"I hate it so much\"                | \\['hate', 'much']           | \\[0, 1]                        |\n"
      ],
      "metadata": {
        "id": "xvGx8ooS90bb"
      },
      "id": "xvGx8ooS90bb"
    },
    {
      "cell_type": "markdown",
      "source": [
        "Let's recreate that table here"
      ],
      "metadata": {
        "id": "p-bKcR6r93nL"
      },
      "id": "p-bKcR6r93nL"
    },
    {
      "cell_type": "code",
      "source": [
        "# Create DataFrame\n",
        "data = {\n",
        "    \"Original Tweet\": [],\n",
        "    \"Cleaned Tokens\": [],\n",
        "    \"Features [pos_cnt, neg_cnt]\": []\n",
        "}\n",
        "\n",
        "for tweet in toy_tweets:\n",
        "    tokens = simple_process(tweet)\n",
        "    features = to_features(tokens)\n",
        "    data[\"Original Tweet\"].append(tweet)\n",
        "    data[\"Cleaned Tokens\"].append(tokens)\n",
        "    data[\"Features [pos_cnt, neg_cnt]\"].append(features)\n",
        "\n",
        "df = pd.DataFrame(data)\n",
        "\n",
        "print(df.to_markdown(index=False))\n"
      ],
      "metadata": {
        "id": "RJkAjDBW9bUt",
        "outputId": "d7df4c1b-50ad-4445-df6f-d688c0eddcf5",
        "colab": {
          "base_uri": "https://localhost:8080/"
        }
      },
      "id": "RJkAjDBW9bUt",
      "execution_count": 16,
      "outputs": [
        {
          "output_type": "stream",
          "name": "stdout",
          "text": [
            "| Original Tweet                   | Cleaned Tokens             | Features [pos_cnt, neg_cnt]   |\n",
            "|:---------------------------------|:---------------------------|:------------------------------|\n",
            "| I love this!                     | ['love']                   | [1, 0]                        |\n",
            "| This is great and makes me happy | ['great', 'make', 'happi'] | [1, 0]                        |\n",
            "| So happy, great vibes            | ['happi', 'great', 'vibe'] | [1, 0]                        |\n",
            "| I hate this, really bad          | ['hate', 'realli', 'bad']  | [0, 2]                        |\n",
            "| This is sad and bad              | ['sad', 'bad']             | [0, 2]                        |\n",
            "| I hate it so much                | ['hate', 'much']           | [0, 1]                        |\n"
          ]
        }
      ]
    },
    {
      "cell_type": "markdown",
      "source": [
        "So now we take that intermediate table we have built, and will train a logistic regression that is able to link the features (number of postive words, number of negative words) to whether the sentence is positive or negative (which is predetermined).\n",
        "\n",
        "How is this done? Well behind the scenes a function is used scikit-learn that uses an optimization algorithm to find the best parameters (weights and bias) that minimize a loss function — typically the log loss (a.k.a. binary cross-entropy).\n",
        "\n",
        "That optimization is usually done via (stochastic) gradient descent, but we won't focus on the nuts and bolts of gradient descent here, but by default the clf_toy = LogisticRegression() function below uses 100 iterations.\n",
        "\n"
      ],
      "metadata": {
        "id": "Bk52jPg83fs9"
      },
      "id": "Bk52jPg83fs9"
    },
    {
      "cell_type": "code",
      "source": [
        "# Define sentiment labels: 1 = positive, 0 = negative\n",
        "y_toy = np.array([1, 1, 1, 0, 0, 0])\n",
        "\n",
        "# Convert each tweet into a feature vector: [#positive_words, #negative_words]\n",
        "X_toy = np.array([to_features(simple_process(t)) for t in toy_tweets])\n",
        "\n",
        "# Display the resulting feature matrix\n",
        "print(\"Toy feature matrix:\\n\", X_toy)\n",
        "\n",
        "# Initialize and train a logistic regression classifier on the toy data\n",
        "clf_toy = LogisticRegression()\n",
        "clf_toy.fit(X_toy, y_toy)\n",
        "\n",
        "# Print training accuracy (since this is a toy set, it should be 100%)\n",
        "print(\"Toy accuracy:\", clf_toy.score(X_toy, y_toy))\n",
        "\n",
        "# ---------- Visualization ----------\n",
        "\n",
        "# Create a new 4x4 inch plot\n",
        "plt.figure(figsize=(4,4))\n",
        "\n",
        "# Plot the data points with different markers for positive and negative labels\n",
        "for label, marker, color in [(1, 'o', 'green'), (0, 'x', 'red')]:\n",
        "    mask = y_toy == label\n",
        "    plt.scatter(\n",
        "        X_toy[mask, 0], X_toy[mask, 1],\n",
        "        marker=marker, color=color,\n",
        "        label='Positive' if label else 'Negative', s=80\n",
        "    )\n",
        "\n",
        "# Extract the learned weights and intercept from the trained model\n",
        "coef = clf_toy.coef_[0]       # [w1, w2]\n",
        "intercept = clf_toy.intercept_[0]  # bias term\n",
        "\n",
        "# Generate x-values to plot the decision boundary line\n",
        "xs = np.linspace(0, 3, 100)\n",
        "\n",
        "# Compute corresponding y-values for the decision boundary: w1*x + w2*y + b = 0\n",
        "ys = -(coef[0]*xs + intercept) / coef[1]\n",
        "\n",
        "# Plot the decision boundary as a dashed black line\n",
        "plt.plot(xs, ys, '--k')\n",
        "\n",
        "# Label the axes\n",
        "plt.xlabel('Positive word count')\n",
        "plt.ylabel('Negative word count')\n",
        "\n",
        "# Set visible limits for clarity\n",
        "plt.xlim(-0.2, 3.5)\n",
        "plt.ylim(-0.2, 3.5)\n",
        "\n",
        "# Add a legend and title\n",
        "plt.legend()\n",
        "plt.title(\"Toy decision boundary\")\n",
        "\n",
        "# Show the final plot\n",
        "plt.show()\n"
      ],
      "metadata": {
        "colab": {
          "base_uri": "https://localhost:8080/",
          "height": 549
        },
        "id": "SdppJCjc2TiD",
        "outputId": "bc441f47-ec41-4d16-a7a5-a4669761979e"
      },
      "id": "SdppJCjc2TiD",
      "execution_count": 4,
      "outputs": [
        {
          "output_type": "stream",
          "name": "stdout",
          "text": [
            "Toy feature matrix:\n",
            " [[1 0]\n",
            " [1 0]\n",
            " [1 0]\n",
            " [0 2]\n",
            " [0 2]\n",
            " [0 1]]\n",
            "Toy accuracy: 1.0\n"
          ]
        },
        {
          "output_type": "display_data",
          "data": {
            "text/plain": [
              "<Figure size 400x400 with 1 Axes>"
            ],
            "image/png": "[encoded data removed]"
          },
          "metadata": {}
        }
      ]
    },
    {
      "cell_type": "markdown",
      "id": "73a39263",
      "metadata": {
        "id": "73a39263"
      },
      "source": [
        "And there you have it, using the built in Gradient Descent function we have arrived at a line that splits positive vs negative tweets based on the number of positive vs negative words. And in the toy example it's always correct for the toy example.\n",
        "\n",
        "**What to notice**\n",
        "\n",
        "* Tweets with more *positive cues* sit left of the boundary.  \n",
        "* LR learns weights to separate the two classes with a straight line.  \n",
        "* Coefficients magnitude ≈ feature importance.\n",
        "* The slope and position of that line are determined by the learned weights (coef_) and bias (intercept_)."
      ]
    },
    {
      "cell_type": "markdown",
      "id": "a612cf46",
      "metadata": {
        "id": "a612cf46"
      },
      "source": [
        "## Now let's replicate the toy exercise on real Twitter Data\n",
        "\n",
        " 2️⃣ First let's rebuild the helper functions – inline (no utils.py like in the DeepLearning course. We'll build the code in the Colab environment)"
      ]
    },
    {
      "cell_type": "code",
      "execution_count": 5,
      "id": "87dd05bd",
      "metadata": {
        "id": "87dd05bd"
      },
      "outputs": [],
      "source": [
        "import re, numpy as np\n",
        "from nltk.corpus import stopwords\n",
        "from nltk.stem import PorterStemmer\n",
        "\n",
        "stemmer = PorterStemmer()\n",
        "stop_words = set(stopwords.words('english'))\n",
        "\n",
        "def process_tweet(tweet: str):\n",
        "    tweet = tweet.lower()\n",
        "    tweet = re.sub(r'https?://\\S+', '', tweet)\n",
        "    tweet = re.sub(r'[^a-z\\s]', '', tweet)\n",
        "    return [stemmer.stem(w) for w in tweet.split() if w not in stop_words]\n",
        "\n",
        "def build_freqs(tweets, ys):\n",
        "    freqs = {}\n",
        "    for y, tweet in zip(ys, tweets):\n",
        "        for word in process_tweet(tweet):\n",
        "            pair = (word, y)\n",
        "            freqs[pair] = freqs.get(pair, 0) + 1\n",
        "    return freqs\n",
        "\n",
        "def tweet_to_xy(tweet, pos_vocab, neg_vocab):\n",
        "    tokens = process_tweet(tweet)\n",
        "    pos_cnt = sum(tok in pos_vocab for tok in tokens)\n",
        "    neg_cnt = sum(tok in neg_vocab for tok in tokens)\n",
        "    return np.array([pos_cnt, neg_cnt])\n"
      ]
    },
    {
      "cell_type": "markdown",
      "id": "7488ea2d",
      "metadata": {
        "id": "7488ea2d"
      },
      "source": [
        "## 3️⃣ Full tweet corpus – build features & train\n",
        "\n",
        "We will now run the cleaned Tweets through a counter to get the frequency that words appear in both positive and negative Tweets. This will be expressed in a tuplet per word:\n",
        "\n",
        "For example, for love: freqs[('love', 1)] = 36    # \"love\" appears 36 times in positive tweets\n",
        "freqs[('hate', 0)] = 42    # \"hate\" appears 42 times in negative tweets.\n",
        "\n",
        "And we filters out rare words (appearing ≤5 times)\n",
        "Builds two sets:\n",
        "pos_vocab: words that appear more than 5 times in positive tweets\n",
        "neg_vocab: words that appear more than 5 times in negative tweets\n",
        "\n",
        "These vocabularies are your data-driven sentiment lexicons."
      ]
    },
    {
      "cell_type": "code",
      "execution_count": 6,
      "id": "625a1a22",
      "metadata": {
        "colab": {
          "base_uri": "https://localhost:8080/"
        },
        "id": "625a1a22",
        "outputId": "1862747f-2a91-454d-944d-043de4e0f8b4"
      },
      "outputs": [
        {
          "output_type": "stream",
          "name": "stdout",
          "text": [
            "Positive vocab: 780 words | Negative vocab: 796 words\n",
            "Feature matrix shape: (10000, 2)\n"
          ]
        }
      ],
      "source": [
        "from nltk.corpus import twitter_samples\n",
        "import numpy as np\n",
        "\n",
        "pos_tweets = twitter_samples.strings('positive_tweets.json')\n",
        "neg_tweets = twitter_samples.strings('negative_tweets.json')\n",
        "tweets = pos_tweets + neg_tweets\n",
        "ys = np.append(np.ones(len(pos_tweets)), np.zeros(len(neg_tweets)))\n",
        "\n",
        "freqs = build_freqs(tweets, ys)\n",
        "\n",
        "# Vocab threshold\n",
        "pos_vocab = {w for (w,y) in freqs if y==1 and freqs[(w,1)] > 5}\n",
        "neg_vocab = {w for (w,y) in freqs if y==0 and freqs[(w,0)] > 5}\n",
        "\n",
        "print(f\"Positive vocab: {len(pos_vocab)} words | Negative vocab: {len(neg_vocab)} words\")\n",
        "\n",
        "X = np.array([tweet_to_xy(t, pos_vocab, neg_vocab) for t in tweets])\n",
        "print(\"Feature matrix shape:\", X.shape)\n"
      ]
    },
    {
      "cell_type": "markdown",
      "source": [
        "Let's print the top 5 positive, negative, and dual-purpose (pos and neg) words."
      ],
      "metadata": {
        "id": "HogAKHpy9ce3"
      },
      "id": "HogAKHpy9ce3"
    },
    {
      "cell_type": "code",
      "source": [
        "# Separate word counts\n",
        "from collections import defaultdict\n",
        "\n",
        "# Step 1: Build separate dicts for pos and neg counts\n",
        "pos_counts = defaultdict(int)\n",
        "neg_counts = defaultdict(int)\n",
        "\n",
        "for (word, label), count in freqs.items():\n",
        "    if label == 1:\n",
        "        pos_counts[word] += count\n",
        "    else:\n",
        "        neg_counts[word] += count\n",
        "\n",
        "# Step 2: Get top 5 positive words\n",
        "top_pos = sorted(pos_counts.items(), key=lambda x: x[1], reverse=True)[:5]\n",
        "\n",
        "# Step 3: Get top 5 negative words\n",
        "top_neg = sorted(neg_counts.items(), key=lambda x: x[1], reverse=True)[:5]\n",
        "\n",
        "# Step 4: Get top 5 shared words (appear in both pos and neg, ranked by total freq)\n",
        "shared_words = set(pos_counts) & set(neg_counts)\n",
        "shared_freqs = [(w, pos_counts[w] + neg_counts[w]) for w in shared_words]\n",
        "top_shared = sorted(shared_freqs, key=lambda x: x[1], reverse=True)[:5]\n",
        "\n",
        "# Step 5: Print everything\n",
        "print(\"🔵 Top 5 Positive Words:\")\n",
        "for w, c in top_pos:\n",
        "    print(f\"{w:<15} {c}\")\n",
        "\n",
        "print(\"\\n🔴 Top 5 Negative Words:\")\n",
        "for w, c in top_neg:\n",
        "    print(f\"{w:<15} {c}\")\n",
        "\n",
        "print(\"\\n🟣 Top 5 Shared Words (in both pos and neg):\")\n",
        "for w, c in top_shared:\n",
        "    print(f\"{w:<15} {c} (pos: {pos_counts[w]}, neg: {neg_counts[w]})\")\n"
      ],
      "metadata": {
        "colab": {
          "base_uri": "https://localhost:8080/"
        },
        "id": "hCKExSiW9Yae",
        "outputId": "238e0da1-a9ac-4db1-8bda-89aa0f7e60ee"
      },
      "id": "hCKExSiW9Yae",
      "execution_count": 7,
      "outputs": [
        {
          "output_type": "stream",
          "name": "stdout",
          "text": [
            "🔵 Top 5 Positive Words:\n",
            "thank           642\n",
            "follow          447\n",
            "love            399\n",
            "day             243\n",
            "u               241\n",
            "\n",
            "🔴 Top 5 Negative Words:\n",
            "im              475\n",
            "miss            300\n",
            "pleas           273\n",
            "follow          263\n",
            "want            246\n",
            "\n",
            "🟣 Top 5 Shared Words (in both pos and neg):\n",
            "thank           749 (pos: 642, neg: 107)\n",
            "im              716 (pos: 241, neg: 475)\n",
            "follow          710 (pos: 447, neg: 263)\n",
            "love            551 (pos: 399, neg: 152)\n",
            "like            452 (pos: 231, neg: 221)\n"
          ]
        }
      ]
    },
    {
      "cell_type": "markdown",
      "id": "ee3afcad",
      "metadata": {
        "id": "ee3afcad"
      },
      "source": [
        "### Train / test split & model performance\n",
        "\n",
        "Now we will train logistic regression to classify based on the feature representation of tweets using the vocabulary-based features you built earlier.\n",
        "In principle, the logistic regression used here is exactly the same as in your toy example. The core algorithm is identical. What changes is the scale and the input representation.\n",
        "\n"
      ]
    },
    {
      "cell_type": "markdown",
      "source": [
        "Difference between the toy example and this real example\n",
        "\n",
        "| Aspect                | Toy Example                    | Twitter Dataset Example                                  |\n",
        "| --------------------- | ------------------------------ | -------------------------------------------------------- |\n",
        "| **Features**          | 2D → `[pos_count, neg_count]`  | Potentially hundreds or thousands of word-based features |\n",
        "| **Data size**         | 6 sentences                    | 10,000 tweets                                            |\n",
        "| **Vocabulary source** | Manually defined small lexicon | Auto-generated from word frequencies                     |\n",
        "| **Separability**      | Fully separable in 2D          | Likely not linearly separable in high-dimensional space  |\n",
        "| **Visualization**     | Easy to plot (2D space)        | Difficult (high-dimensional space)                       |\n",
        "\n",
        "So behind the scenes, the real model is doing the same kind of math, but in much higher dimensions using vectorized linear algebra."
      ],
      "metadata": {
        "id": "nlsCPW7Z7Wkx"
      },
      "id": "nlsCPW7Z7Wkx"
    },
    {
      "cell_type": "code",
      "execution_count": 8,
      "id": "0a77584f",
      "metadata": {
        "colab": {
          "base_uri": "https://localhost:8080/",
          "height": 501
        },
        "id": "0a77584f",
        "outputId": "d72e7f61-5fde-4275-84bd-83b270edf1e3"
      },
      "outputs": [
        {
          "output_type": "stream",
          "name": "stdout",
          "text": [
            "Train accuracy: 0.662125\n",
            "Test  accuracy: 0.6615\n"
          ]
        },
        {
          "output_type": "execute_result",
          "data": {
            "text/plain": [
              "<sklearn.metrics._plot.confusion_matrix.ConfusionMatrixDisplay at 0x7b7bee03b710>"
            ]
          },
          "metadata": {},
          "execution_count": 8
        },
        {
          "output_type": "display_data",
          "data": {
            "text/plain": [
              "<Figure size 640x480 with 2 Axes>"
            ],
            "image/png": "[encoded data removed]"
          },
          "metadata": {}
        }
      ],
      "source": [
        "from sklearn.model_selection import train_test_split\n",
        "from sklearn.linear_model import LogisticRegression\n",
        "from sklearn.metrics import accuracy_score, confusion_matrix, ConfusionMatrixDisplay\n",
        "\n",
        "X_train, X_test, y_train, y_test = train_test_split(X, ys, test_size=0.2, random_state=42, stratify=ys)\n",
        "\n",
        "model = LogisticRegression(max_iter=1000)\n",
        "model.fit(X_train, y_train)\n",
        "\n",
        "print(\"Train accuracy:\", accuracy_score(y_train, model.predict(X_train)))\n",
        "print(\"Test  accuracy:\", accuracy_score(y_test,  model.predict(X_test)))\n",
        "\n",
        "ConfusionMatrixDisplay.from_estimator(model, X_test, y_test, display_labels=['neg','pos'])\n"
      ]
    },
    {
      "cell_type": "markdown",
      "id": "1541b262",
      "metadata": {
        "id": "1541b262"
      },
      "source": [
        "### Visualising tweet distribution & decision boundary\n",
        "\n",
        "The above image shows: This is a confusion matrix plot that shows how your logistic regression model performed on the test set for tweet sentiment classification.\n",
        "\n",
        "|                    | **Predicted: Negative**          | **Predicted: Positive**          |\n",
        "| ------------------ | -------------------------------- | -------------------------------- |\n",
        "| **True: Negative** | **753** = ✅ True Negatives (TN)  | **247** = ❌ False Positives (FP) |\n",
        "| **True: Positive** | **430** = ❌ False Negatives (FN) | **570** = ✅ True Positives (TP)  |\n"
      ]
    },
    {
      "cell_type": "markdown",
      "source": [
        "\n",
        "\n",
        "The visualization produced below shows:\n",
        "\n",
        "Points below the line have more positive words than negative\n",
        "\n",
        "Points above the line have more negative words than positive\n",
        "\n",
        "This is a simple heuristic decision boundary — not from the model, but rather a visual separator."
      ],
      "metadata": {
        "id": "01rcI1MX_TIK"
      },
      "id": "01rcI1MX_TIK"
    },
    {
      "cell_type": "code",
      "execution_count": 9,
      "id": "f8fa0415",
      "metadata": {
        "colab": {
          "base_uri": "https://localhost:8080/",
          "height": 564
        },
        "id": "f8fa0415",
        "outputId": "0e31f25d-3481-4d82-a369-d31c74059440"
      },
      "outputs": [
        {
          "output_type": "display_data",
          "data": {
            "text/plain": [
              "<Figure size 600x600 with 1 Axes>"
            ],
            "image/png": "[encoded data removed]"
          },
          "metadata": {}
        }
      ],
      "source": [
        "import matplotlib.pyplot as plt\n",
        "\n",
        "np.random.seed(0)\n",
        "sample_idx = np.random.choice(len(X), 2000, replace=False)\n",
        "X_s = X[sample_idx]; y_s = ys[sample_idx]\n",
        "\n",
        "plt.figure(figsize=(6,6))\n",
        "for label, marker, col in [(1,'o','limegreen'), (0,'x','crimson')]:\n",
        "    mask = y_s==label\n",
        "    plt.scatter(X_s[mask,0], X_s[mask,1], marker=marker, color=col, label='pos' if label else 'neg', alpha=0.5)\n",
        "\n",
        "coef = model.coef_[0]; intercept=model.intercept_[0]\n",
        "xs = np.linspace(0, X[:,0].max()+2, 100)\n",
        "ys_line = -(coef[0]*xs + intercept)/coef[1]\n",
        "plt.plot(xs, ys_line, '--k', linewidth=2)\n",
        "\n",
        "plt.xlabel('Positive word count'); plt.ylabel('Negative word count')\n",
        "plt.title('Tweet sentiment space')\n",
        "plt.legend(loc='upper right')\n",
        "plt.xlim(0, X[:,0].max()+1); plt.ylim(0, X[:,1].max()+1)\n",
        "plt.show()\n"
      ]
    },
    {
      "cell_type": "markdown",
      "id": "a531143f",
      "metadata": {
        "id": "a531143f"
      },
      "source": [
        "**Interpretation tips**\n",
        "\n",
        "* Many tweets contain *no* positive words (x=0) or negative words (y=0); that’s why points hug the axes.  \n",
        "* Adding richer features (bigrams, TF‑IDF) can separate overlapping clusters."
      ]
    },
    {
      "cell_type": "markdown",
      "id": "be52c2b3",
      "metadata": {
        "id": "be52c2b3"
      },
      "source": [
        "## 4️⃣ Interactive Gradio sentiment tester\n",
        "\n",
        "Takes the model WE JUST TRAINED and let's you do a sentiment analysis of any sentence."
      ]
    },
    {
      "cell_type": "code",
      "execution_count": 10,
      "id": "2f043bc6",
      "metadata": {
        "colab": {
          "base_uri": "https://localhost:8080/",
          "height": 645
        },
        "id": "2f043bc6",
        "outputId": "40084c75-5b16-477b-a5c2-965ec84b4030"
      },
      "outputs": [
        {
          "output_type": "stream",
          "name": "stdout",
          "text": [
            "It looks like you are running Gradio on a hosted Jupyter notebook, which requires `share=True`. Automatically setting `share=True` (you can turn this off by setting `share=False` in `launch()` explicitly).\n",
            "\n",
            "Colab notebook detected. To show errors in colab notebook, set debug=True in launch()\n",
            "* Running on public URL: https://045f37645f76df596a.gradio.live\n",
            "\n",
            "This share link expires in 1 week. For free permanent hosting and GPU upgrades, run `gradio deploy` from the terminal in the working directory to deploy to Hugging Face Spaces (https://huggingface.co/spaces)\n"
          ]
        },
        {
          "output_type": "display_data",
          "data": {
            "text/plain": [
              "<IPython.core.display.HTML object>"
            ],
            "text/html": [
              "<div><iframe src=\"https://045f37645f76df596a.gradio.live\" width=\"100%\" height=\"500\" allow=\"autoplay; camera; microphone; clipboard-read; clipboard-write;\" frameborder=\"0\" allowfullscreen></iframe></div>"
            ]
          },
          "metadata": {}
        },
        {
          "output_type": "execute_result",
          "data": {
            "text/plain": []
          },
          "metadata": {},
          "execution_count": 10
        }
      ],
      "source": [
        "import gradio as gr\n",
        "from collections import Counter\n",
        "\n",
        "def predict_sentiment(text):\n",
        "    feats = tweet_to_xy(text, pos_vocab, neg_vocab)\n",
        "    prob_pos = float(model.predict_proba([feats])[0][1])\n",
        "    label = \"Positive 😊\" if prob_pos >= 0.5 else \"Negative 😞\"\n",
        "    return {\n",
        "        \"Positive-count\": int(feats[0]),\n",
        "        \"Negative-count\": int(feats[1]),\n",
        "        \"Prob‑positive\": round(prob_pos, 3),\n",
        "        \"Prediction\": label\n",
        "    }\n",
        "\n",
        "with gr.Blocks() as demo:\n",
        "    gr.Markdown(\"### 🎛️ Sentiment tester (Logistic Regression)\")\n",
        "    txt = gr.Textbox(label=\"Enter tweet text\", lines=3)\n",
        "    out = gr.JSON(label=\"Model output\")\n",
        "    txt.submit(predict_sentiment, txt, out)\n",
        "    gr.Button(\"Run\").click(predict_sentiment, txt, out)\n",
        "\n",
        "# Uncomment the next line when running in Colab\n",
        "demo.launch()\n"
      ]
    },
    {
      "cell_type": "markdown",
      "id": "f88aa810",
      "metadata": {
        "id": "f88aa810"
      },
      "source": [
        "---\n",
        "\n",
        "🎉 **You trained, visualised, and deployed a sentiment classifier!**  \n",
        "Try tweaking the vocabulary threshold, adding TF‑IDF, or swapping in a different model to see how performance changes."
      ]
    }
  ],
  "metadata": {
    "kernelspec": {
      "display_name": "Python 3",
      "name": "python3"
    },
    "language_info": {
      "name": "python"
    },
    "colab": {
      "provenance": []
    }
  },
  "nbformat": 4,
  "nbformat_minor": 5
}