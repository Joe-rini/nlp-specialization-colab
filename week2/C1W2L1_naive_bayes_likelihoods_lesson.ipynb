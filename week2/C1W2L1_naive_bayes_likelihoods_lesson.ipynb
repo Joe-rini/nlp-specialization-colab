{
  "cells": [
    {
      "cell_type": "markdown",
      "id": "8dba6c4e",
      "metadata": {
        "id": "8dba6c4e"
      },
      "source": [
        "# 📘 C1W2_L1: Naive Bayes Likelihoods – Teaching Version\n",
        "\n",
        "In this workbook, our goal is to build a system that can predict whether a Tweet is positive or negative using the Naive Bayes approach. Like last week’s logistic regression, we’ll keep things simple and interpretable: no word order, no phrasing — just plain counts of which words appear.\n",
        "\n",
        "But instead of learning weights through optimization (like logistic regression), this time we’ll build a model using **Bayes’ Theorem** and **word frequencies**. Think of this as letting probabilities do the talking, based on how often a word appears in positive vs. negative tweets.\n",
        "\n",
        "You’ll see lots of overlap with Week 1’s bag-of-words approach — but the core *math* behind the prediction is different. Let’s dive in!\n",
        "\n",
        "Unlike logistic regression last week, there’s no optimization or gradient descent here — just a lookup-based statistical model derived directly from the labeled data.\n",
        "\n",
        "---\n",
        "\n",
        "## 🧠 What is Naive Bayes?\n",
        "Naive Bayes is a simple yet powerful classification algorithm based on **Bayes’ Theorem**:\n",
        "\n",
        "The “naive” assumption is that all words in a tweet are **conditionally independent** given the sentiment label (whether the Tweet is Positive or Negative).\n",
        "\n",
        "🧮 How Naive Bayes Works (Simple Steps):\n",
        "\n",
        "1️⃣ Clean and tokenize each tweet (remove stopwords, punctuation, etc.)\n",
        "\n",
        "2️⃣ Count how often each word appears in positive and negative tweets\n",
        "\n",
        "3️⃣ Calculate smoothed probabilities\n",
        "\n",
        "4️⃣ For a new tweet, sum the log probabilities of each word under each label\n",
        "\n",
        "5️⃣ Predict the label with the higher total score\n",
        "\n",
        "---\n",
        "\n",
        "---\n",
        "\n",
        "## 🔧 1. Setup & Downloads\n",
        "We'll begin by installing dependencies and loading some Twitter data."
      ]
    },
    {
      "cell_type": "code",
      "execution_count": null,
      "id": "3e27f2e6",
      "metadata": {
        "id": "3e27f2e6"
      },
      "outputs": [],
      "source": [
        "!pip install -q gradio\n",
        "import nltk\n",
        "nltk.download('twitter_samples')\n",
        "nltk.download('stopwords')"
      ]
    },
    {
      "cell_type": "markdown",
      "id": "36ba8b58",
      "metadata": {
        "id": "36ba8b58"
      },
      "source": [
        "..."
      ]
    }
  ],
  "metadata": {
    "colab": {
      "name": "C1W2_L1_Naive_Bayes_Teaching.ipynb",
      "provenance": []
    },
    "language_info": {
      "name": "python"
    },
    "kernelspec": {
      "name": "python3",
      "display_name": "Python 3"
    }
  },
  "nbformat": 4,
  "nbformat_minor": 5
}