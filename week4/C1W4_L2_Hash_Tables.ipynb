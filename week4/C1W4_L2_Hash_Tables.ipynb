{
  "cells": [
    {
      "cell_type": "markdown",
      "metadata": {
        "id": "view-in-github",
        "colab_type": "text"
      },
      "source": [
        "<a href=\"https://colab.research.google.com/github/Joe-rini/nlp-specialization-colab/blob/main/C1W4_L2_Hash_Tables.ipynb\" target=\"_parent\"><img src=\"https://colab.research.google.com/assets/colab-badge.svg\" alt=\"Open In Colab\"/></a>"
      ]
    },
    {
      "cell_type": "markdown",
      "id": "04d0cd49",
      "metadata": {
        "id": "04d0cd49"
      },
      "source": [
        "# NLP Specialization — Course 1, Week 4, Lesson 2\n",
        "## Topic: Hash Tables\n",
        "\n",
        "This lesson introduces **hash tables**, a fundamental data structure that enables fast lookups.\n",
        "We'll build intuition from scratch with code, examples, and interactive tools.\n"
      ]
    },
    {
      "cell_type": "code",
      "execution_count": null,
      "id": "ece00c50",
      "metadata": {
        "id": "ece00c50"
      },
      "outputs": [],
      "source": [
        "!pip install -q gradio matplotlib numpy"
      ]
    },
    {
      "cell_type": "code",
      "execution_count": null,
      "id": "1553190a",
      "metadata": {
        "id": "1553190a"
      },
      "outputs": [],
      "source": [
        "import numpy as np\n",
        "import matplotlib.pyplot as plt\n",
        "import gradio as gr"
      ]
    },
    {
      "cell_type": "markdown",
      "id": "d630f353",
      "metadata": {
        "id": "d630f353"
      },
      "source": [
        "## 1. What is a Hash Table?\n",
        "\n",
        "A **hash table** stores key-value pairs.\n",
        "- A **hash function** converts a key (like a word) into an index.\n",
        "- That index tells us where to store or retrieve the value.\n",
        "\n",
        "Hash tables allow **fast lookup (O(1))** in ideal conditions.\n",
        "\n",
        "### Hashing in NLP\n",
        "In word translation or embeddings, hash tables are used to quickly retrieve vectors or translations for a given word."
      ]
    },
    {
      "cell_type": "markdown",
      "id": "de178781",
      "metadata": {
        "id": "de178781"
      },
      "source": [
        "## 2. Let's build a toy hash table from scratch\n",
        "We will:\n",
        "- Define a small hash table (fixed size)\n",
        "- Implement a simple hash function (sum of character codes)\n",
        "- Handle collisions using chaining (list of items at the same slot)\n"
      ]
    },
    {
      "cell_type": "code",
      "execution_count": null,
      "id": "bf50ad25",
      "metadata": {
        "id": "bf50ad25"
      },
      "outputs": [],
      "source": [
        "class SimpleHashTable:\n",
        "    def __init__(self, size=10):\n",
        "        self.size = size\n",
        "        self.table = [[] for _ in range(size)]\n",
        "\n",
        "    def _hash(self, key):\n",
        "        return sum(ord(c) for c in key) % self.size\n",
        "\n",
        "    def insert(self, key, value):\n",
        "        index = self._hash(key)\n",
        "        # Check if key exists, update if so\n",
        "        for pair in self.table[index]:\n",
        "            if pair[0] == key:\n",
        "                pair[1] = value\n",
        "                return\n",
        "        self.table[index].append([key, value])\n",
        "\n",
        "    def get(self, key):\n",
        "        index = self._hash(key)\n",
        "        for pair in self.table[index]:\n",
        "            if pair[0] == key:\n",
        "                return pair[1]\n",
        "        return None\n",
        "\n",
        "    def __repr__(self):\n",
        "        return str(self.table)\n",
        "\n",
        "# Example\n",
        "ht = SimpleHashTable(size=5)\n",
        "ht.insert('cat', 'gato')\n",
        "ht.insert('dog', 'perro')\n",
        "ht.insert('bird', 'pajaro')\n",
        "ht"
      ]
    },
    {
      "cell_type": "markdown",
      "id": "56e270b7",
      "metadata": {
        "id": "56e270b7"
      },
      "source": [
        "## 3. Visualizing collisions\n",
        "We can see how different keys might land in the same bucket."
      ]
    },
    {
      "cell_type": "code",
      "execution_count": null,
      "id": "35d075e7",
      "metadata": {
        "id": "35d075e7"
      },
      "outputs": [],
      "source": [
        "def visualize_table(ht):\n",
        "    for i, bucket in enumerate(ht.table):\n",
        "        print(f'Index {i}: {bucket}')\n",
        "\n",
        "visualize_table(ht)"
      ]
    },
    {
      "cell_type": "markdown",
      "id": "a69162e9",
      "metadata": {
        "id": "a69162e9"
      },
      "source": [
        "## 4. Try it yourself interactively\n",
        "Use this widget to insert key-value pairs and look them up."
      ]
    },
    {
      "cell_type": "code",
      "execution_count": null,
      "id": "d1fe453a",
      "metadata": {
        "id": "d1fe453a"
      },
      "outputs": [],
      "source": [
        "ht_interactive = SimpleHashTable(size=7)\n",
        "\n",
        "def interact(action, key, value):\n",
        "    if action == 'Insert':\n",
        "        ht_interactive.insert(key, value)\n",
        "        return f'Inserted ({key}: {value})', str(ht_interactive.table)\n",
        "    elif action == 'Get':\n",
        "        result = ht_interactive.get(key)\n",
        "        return f'Value: {result}', str(ht_interactive.table)\n",
        "\n",
        "gr.Interface(\n",
        "    fn=interact,\n",
        "    inputs=[\n",
        "        gr.Radio(['Insert', 'Get'], label='Action'),\n",
        "        gr.Textbox(label='Key'),\n",
        "        gr.Textbox(label='Value (ignored for Get)')\n",
        "    ],\n",
        "    outputs=[gr.Textbox(label='Result'), gr.Textbox(label='Current Table')],\n",
        "    title='Interactive Hash Table'\n",
        ") # Uncomment .launch() to run interactively in Colab\n",
        "# .launch()"
      ]
    },
    {
      "cell_type": "markdown",
      "id": "5c3af095",
      "metadata": {
        "id": "5c3af095"
      },
      "source": [
        "## 5. Why this matters for NLP\n",
        "\n",
        "- **Fast lookups:** Translation dictionaries use hash tables to retrieve words quickly.\n",
        "- **Large vocabularies:** Word embeddings with 100k+ words need fast structures.\n",
        "- **Collisions:** Must be handled gracefully to ensure correct lookups.\n",
        "\n",
        "This prepares you for the **Word Translation assignment**, where you'll use hash maps to look up translations."
      ]
    }
  ],
  "metadata": {
    "colab": {
      "provenance": [],
      "include_colab_link": true
    }
  },
  "nbformat": 4,
  "nbformat_minor": 5
}
